{
 "cells": [
  {
   "cell_type": "markdown",
   "metadata": {},
   "source": [
    "# Predicting ground state of molecule using Hybrid quantum-classical Neural Networks(FFNN) (please run all before look at it, I dont have time to train)\n",
    "## Project Description - poig\n",
    "I am a highschool student, unable find any free team so decide to solo it. This is my first AI project, without much knowledgth about AI.  \n",
    "I dont have credit card, cant use aws power up redeem code.\n",
    "\n",
    "my linkedin - linkedin.com/in/jun-liang-tan-0b8b53133/\n",
    "### goal:\n",
    "predict the ground state energies of molecules using Coulomb matrices as input using quantum-classical Neural Networks. I hope to combine advanced feed forward neural network(FFNN) and quantum neural network(QNN) to achieve higher accuracy.\n",
    "\n",
    "\n",
    "It will train over 16,242 Molecules ground state with FNN&QNN.\n",
    "[training databset from kaggle](https://www.kaggle.com/burakhmmtgl/energy-molecule/code)\n",
    "\n",
    "### reference (those I think is important)- \n",
    "[1] [Predicting excited states from ground state wavefunction by supervised quantum machine learning Hiroki Kawai, Yuya O. Nakagawa](https://www.arxiv.org/pdf/2002.12925.pdf) (where my idea come from)   \n",
    "[2] [Tree based machine learning framework for predicting ground state energies of molecules](https://www.arxiv.org/pdf/1609.07124.pdf)  (where the data set from, can download from kaggle)  \n",
    "[3] [qiskit- hybrid neural network](https://www.qiskit.org/textbook/ch-machine-learning/machine-learning-qiskit-pytorch.html) (where I get idea how to do it)   \n",
    "[4] [pennylane- recurrent neural network lstm](https://www.pennylane.ai/qml/demos/learning2learn.html#recurrent-neural-network-lstm) (where I get idea of####)  \n",
    "[5] [github- AdvancedNNfromScratch](https://www.github.com/mukul-rathi/ChemRegressionNeuralNet/blob/master/AdvancedNNfromScratch.ipynb) (where I understand step need for this project)  \n",
    "[6] [Can One Hear the Shape of a Molecule (from its Coulomb Matrix Eigenvalues)? Joshua Schrier Journal of Chemical Information and Modeling 2020 60 (8), 3804-3811 DOI: 10.1021/acs.jcim.0c00631](https://pubs.acs.org/doi/10.1021/acs.jcim.0c00631) (where I understand little about coulomb matrix, how much thing can do with it)  \n",
    "[7] cheminformania.com/building-a-simple-qsar-model-using-a-feed-forward-neural-network-in-pytorch/"
   ]
  },
  {
   "cell_type": "markdown",
   "metadata": {},
   "source": [
    "# Project\n",
    "## Contents\n",
    "\n",
    "1. [setup data](#setup-data)\n",
    "2. [hyperparameter](#hyper-parameter-that-can-tune-to-improve-traning)\n",
    "3.  \n",
    "4. "
   ]
  },
  {
   "cell_type": "code",
   "execution_count": 2,
   "metadata": {},
   "outputs": [
    {
     "data": {
      "text/plain": [
       "<torch._C.Generator at 0x23abb052610>"
      ]
     },
     "execution_count": 2,
     "metadata": {},
     "output_type": "execute_result"
    }
   ],
   "source": [
    "import qiskit\n",
    "from qiskit import QuantumCircuit, transpile, Aer ,  execute, BasicAer, assemble\n",
    "from qiskit.visualization import *\n",
    "from qiskit_machine_learning import *\n",
    "from qiskit.utils import QuantumInstance, algorithm_globals\n",
    "from qiskit.opflow import AerPauliExpectation\n",
    "from qiskit.circuit import Parameter\n",
    "from qiskit.circuit.library import RealAmplitudes, ZZFeatureMap\n",
    "from qiskit_machine_learning.neural_networks import CircuitQNN, TwoLayerQNN\n",
    "from qiskit_machine_learning.connectors import TorchConnector\n",
    "from qiskit_machine_learning.runtime import TorchRuntimeClient, TorchRuntimeResult\n",
    "from qiskit.providers.aer import AerSimulator\n",
    "from qiskit_machine_learning.kernels import QuantumKernel\n",
    "from qiskit.circuit import ParameterVector\n",
    "from qiskit.algorithms.optimizers import SPSA\n",
    "from qiskit_machine_learning.kernels.algorithms import QuantumKernelTrainer\n",
    "\n",
    "import torch\n",
    "from torch.autograd import Function\n",
    "import torchvision\n",
    "from torchvision import datasets, transforms\n",
    "import torch.optim as optim\n",
    "import torch.nn as nn\n",
    "import torch.nn.functional as F\n",
    "import torch.utils.data as u\n",
    "from torch.utils.data import TensorDataset\n",
    "\n",
    "import pennylane as qml\n",
    "\n",
    "from sklearn.preprocessing import StandardScaler\n",
    "from sklearn.model_selection import train_test_split\n",
    "from sklearn.feature_selection import VarianceThreshold\n",
    "\n",
    "import networkx as nx\n",
    "import random\n",
    "\n",
    "import matplotlib.pyplot as plt\n",
    "import numpy as np\n",
    "import pandas as pd\n",
    "import copy\n",
    "import sys\n",
    "#import sklearn.preprocessing import StandardScaler\n",
    "\n",
    "RANDOM_SEED = 42\n",
    "np.random.seed(RANDOM_SEED)\n",
    "torch.manual_seed(RANDOM_SEED)"
   ]
  },
  {
   "cell_type": "markdown",
   "metadata": {},
   "source": [
    "## setup data<a id=\"data\"></a>\n",
    "### Data set - kaggle.com/burakhmmtgl/energy-molecule"
   ]
  },
  {
   "cell_type": "code",
   "execution_count": 3,
   "metadata": {
    "scrolled": true
   },
   "outputs": [
    {
     "data": {
      "text/plain": [
       "count    16242.000000\n",
       "mean       -11.178969\n",
       "std          3.659133\n",
       "min        -23.245373\n",
       "25%        -13.475805\n",
       "50%        -10.835211\n",
       "75%         -8.623903\n",
       "max         -0.789513\n",
       "Name: Eat, dtype: float64"
      ]
     },
     "execution_count": 3,
     "metadata": {},
     "output_type": "execute_result"
    }
   ],
   "source": [
    "dataset = pd.read_csv('roboBohr.csv') #create a new dataframe containing the input data\n",
    "dataset.Eat.describe()"
   ]
  },
  {
   "cell_type": "code",
   "execution_count": 4,
   "metadata": {},
   "outputs": [
    {
     "data": {
      "text/html": [
       "<div>\n",
       "<style scoped>\n",
       "    .dataframe tbody tr th:only-of-type {\n",
       "        vertical-align: middle;\n",
       "    }\n",
       "\n",
       "    .dataframe tbody tr th {\n",
       "        vertical-align: top;\n",
       "    }\n",
       "\n",
       "    .dataframe thead th {\n",
       "        text-align: right;\n",
       "    }\n",
       "</style>\n",
       "<table border=\"1\" class=\"dataframe\">\n",
       "  <thead>\n",
       "    <tr style=\"text-align: right;\">\n",
       "      <th></th>\n",
       "      <th>Unnamed: 0</th>\n",
       "      <th>0</th>\n",
       "      <th>1</th>\n",
       "      <th>2</th>\n",
       "      <th>3</th>\n",
       "      <th>4</th>\n",
       "      <th>5</th>\n",
       "      <th>6</th>\n",
       "      <th>7</th>\n",
       "      <th>8</th>\n",
       "      <th>...</th>\n",
       "      <th>1267</th>\n",
       "      <th>1268</th>\n",
       "      <th>1269</th>\n",
       "      <th>1270</th>\n",
       "      <th>1271</th>\n",
       "      <th>1272</th>\n",
       "      <th>1273</th>\n",
       "      <th>1274</th>\n",
       "      <th>pubchem_id</th>\n",
       "      <th>Eat</th>\n",
       "    </tr>\n",
       "  </thead>\n",
       "  <tbody>\n",
       "    <tr>\n",
       "      <th>0</th>\n",
       "      <td>0</td>\n",
       "      <td>73.516695</td>\n",
       "      <td>17.817765</td>\n",
       "      <td>12.469551</td>\n",
       "      <td>12.458130</td>\n",
       "      <td>12.454607</td>\n",
       "      <td>12.447345</td>\n",
       "      <td>12.433065</td>\n",
       "      <td>12.426926</td>\n",
       "      <td>12.387474</td>\n",
       "      <td>...</td>\n",
       "      <td>0.0</td>\n",
       "      <td>0.0</td>\n",
       "      <td>0.5</td>\n",
       "      <td>0.0</td>\n",
       "      <td>0.0</td>\n",
       "      <td>0.0</td>\n",
       "      <td>0.0</td>\n",
       "      <td>0.0</td>\n",
       "      <td>25004</td>\n",
       "      <td>-19.013763</td>\n",
       "    </tr>\n",
       "    <tr>\n",
       "      <th>1</th>\n",
       "      <td>1</td>\n",
       "      <td>73.516695</td>\n",
       "      <td>20.649126</td>\n",
       "      <td>18.527789</td>\n",
       "      <td>17.891535</td>\n",
       "      <td>17.887995</td>\n",
       "      <td>17.871731</td>\n",
       "      <td>17.852586</td>\n",
       "      <td>17.729842</td>\n",
       "      <td>15.864270</td>\n",
       "      <td>...</td>\n",
       "      <td>0.0</td>\n",
       "      <td>0.0</td>\n",
       "      <td>0.0</td>\n",
       "      <td>0.0</td>\n",
       "      <td>0.0</td>\n",
       "      <td>0.0</td>\n",
       "      <td>0.0</td>\n",
       "      <td>0.0</td>\n",
       "      <td>25005</td>\n",
       "      <td>-10.161019</td>\n",
       "    </tr>\n",
       "    <tr>\n",
       "      <th>2</th>\n",
       "      <td>2</td>\n",
       "      <td>73.516695</td>\n",
       "      <td>17.830377</td>\n",
       "      <td>12.512263</td>\n",
       "      <td>12.404775</td>\n",
       "      <td>12.394493</td>\n",
       "      <td>12.391564</td>\n",
       "      <td>12.324461</td>\n",
       "      <td>12.238106</td>\n",
       "      <td>10.423249</td>\n",
       "      <td>...</td>\n",
       "      <td>0.0</td>\n",
       "      <td>0.0</td>\n",
       "      <td>0.0</td>\n",
       "      <td>0.0</td>\n",
       "      <td>0.0</td>\n",
       "      <td>0.0</td>\n",
       "      <td>0.0</td>\n",
       "      <td>0.0</td>\n",
       "      <td>25006</td>\n",
       "      <td>-9.376619</td>\n",
       "    </tr>\n",
       "    <tr>\n",
       "      <th>3</th>\n",
       "      <td>3</td>\n",
       "      <td>73.516695</td>\n",
       "      <td>17.875810</td>\n",
       "      <td>17.871259</td>\n",
       "      <td>17.862402</td>\n",
       "      <td>17.850920</td>\n",
       "      <td>17.850440</td>\n",
       "      <td>12.558105</td>\n",
       "      <td>12.557645</td>\n",
       "      <td>12.517583</td>\n",
       "      <td>...</td>\n",
       "      <td>0.0</td>\n",
       "      <td>0.0</td>\n",
       "      <td>0.0</td>\n",
       "      <td>0.0</td>\n",
       "      <td>0.0</td>\n",
       "      <td>0.0</td>\n",
       "      <td>0.0</td>\n",
       "      <td>0.0</td>\n",
       "      <td>25009</td>\n",
       "      <td>-13.776438</td>\n",
       "    </tr>\n",
       "    <tr>\n",
       "      <th>4</th>\n",
       "      <td>4</td>\n",
       "      <td>73.516695</td>\n",
       "      <td>17.883818</td>\n",
       "      <td>17.868256</td>\n",
       "      <td>17.864221</td>\n",
       "      <td>17.818540</td>\n",
       "      <td>12.508657</td>\n",
       "      <td>12.490519</td>\n",
       "      <td>12.450098</td>\n",
       "      <td>10.597068</td>\n",
       "      <td>...</td>\n",
       "      <td>0.0</td>\n",
       "      <td>0.0</td>\n",
       "      <td>0.0</td>\n",
       "      <td>0.0</td>\n",
       "      <td>0.0</td>\n",
       "      <td>0.0</td>\n",
       "      <td>0.0</td>\n",
       "      <td>0.0</td>\n",
       "      <td>25011</td>\n",
       "      <td>-8.537140</td>\n",
       "    </tr>\n",
       "  </tbody>\n",
       "</table>\n",
       "<p>5 rows × 1278 columns</p>\n",
       "</div>"
      ],
      "text/plain": [
       "   Unnamed: 0          0          1          2          3          4  \\\n",
       "0           0  73.516695  17.817765  12.469551  12.458130  12.454607   \n",
       "1           1  73.516695  20.649126  18.527789  17.891535  17.887995   \n",
       "2           2  73.516695  17.830377  12.512263  12.404775  12.394493   \n",
       "3           3  73.516695  17.875810  17.871259  17.862402  17.850920   \n",
       "4           4  73.516695  17.883818  17.868256  17.864221  17.818540   \n",
       "\n",
       "           5          6          7          8  ...  1267  1268  1269  1270  \\\n",
       "0  12.447345  12.433065  12.426926  12.387474  ...   0.0   0.0   0.5   0.0   \n",
       "1  17.871731  17.852586  17.729842  15.864270  ...   0.0   0.0   0.0   0.0   \n",
       "2  12.391564  12.324461  12.238106  10.423249  ...   0.0   0.0   0.0   0.0   \n",
       "3  17.850440  12.558105  12.557645  12.517583  ...   0.0   0.0   0.0   0.0   \n",
       "4  12.508657  12.490519  12.450098  10.597068  ...   0.0   0.0   0.0   0.0   \n",
       "\n",
       "   1271  1272  1273  1274  pubchem_id        Eat  \n",
       "0   0.0   0.0   0.0   0.0       25004 -19.013763  \n",
       "1   0.0   0.0   0.0   0.0       25005 -10.161019  \n",
       "2   0.0   0.0   0.0   0.0       25006  -9.376619  \n",
       "3   0.0   0.0   0.0   0.0       25009 -13.776438  \n",
       "4   0.0   0.0   0.0   0.0       25011  -8.537140  \n",
       "\n",
       "[5 rows x 1278 columns]"
      ]
     },
     "execution_count": 4,
     "metadata": {},
     "output_type": "execute_result"
    }
   ],
   "source": [
    "dataset.head()"
   ]
  },
  {
   "cell_type": "markdown",
   "metadata": {},
   "source": [
    "### split- train set, validation, test"
   ]
  },
  {
   "cell_type": "code",
   "execution_count": 5,
   "metadata": {},
   "outputs": [
    {
     "name": "stdout",
     "output_type": "stream",
     "text": [
      "X shape:  (16242, 1275)\n",
      "Y shape:  (16242, 1)\n",
      "X Y train,test shape:  (13886, 1275) (1625, 1275) (13886, 1) (1625, 1)\n",
      "X Y train,validation shape:  (13886, 1275) (731, 1275) (13886, 1) (731, 1)\n"
     ]
    }
   ],
   "source": [
    "df = dataset.drop(['Unnamed: 0','pubchem_id'],axis=1)\n",
    "X = df.drop(['Eat'], axis = 1).values\n",
    "y = df['Eat'].values.reshape((-1,1))\n",
    "print(\"X shape: \",X.shape)\n",
    "print(\"Y shape: \",y.shape)\n",
    "\n",
    "X_train, X_test, y_train, y_test = train_test_split(X, y,  test_size=0.10, random_state=42)\n",
    "X_train, X_validation, y_train, y_validation = train_test_split(X_train, y_train,  test_size=0.05, random_state=42)\n",
    "print(\"X Y train,test shape: \",X_train.shape, X_test.shape, y_train.shape, y_test.shape)\n",
    "print(\"X Y train,validation shape: \",X_train.shape, X_validation.shape, y_train.shape, y_validation.shape)\n",
    "\n",
    "scaler = StandardScaler()\n",
    "y_train = scaler.fit_transform(y_train)\n",
    "y_test = scaler.transform(y_test)\n",
    "y_validation = scaler.transform(y_validation)"
   ]
  },
  {
   "cell_type": "code",
   "execution_count": 6,
   "metadata": {},
   "outputs": [
    {
     "data": {
      "text/plain": [
       "(13886, 471)"
      ]
     },
     "execution_count": 6,
     "metadata": {},
     "output_type": "execute_result"
    }
   ],
   "source": [
    "feature_select = VarianceThreshold(threshold=0.05)\n",
    "X_train = feature_select.fit_transform(X_train)\n",
    "X_validation = feature_select.transform(X_validation)\n",
    "X_test = feature_select.transform(X_test)\n",
    "X_train.shape"
   ]
  },
  {
   "cell_type": "code",
   "execution_count": 7,
   "metadata": {},
   "outputs": [
    {
     "name": "stdout",
     "output_type": "stream",
     "text": [
      "cpu\n"
     ]
    },
    {
     "data": {
      "text/plain": [
       "tensor([[ 73.5167,  20.6862,  18.5772,  ...,   0.0000,   0.0000,   0.0000],\n",
       "        [ 73.5167,  20.5861,  16.4353,  ...,   0.5000,   0.5000,   0.0000],\n",
       "        [ 73.5167,  20.7930,  18.6475,  ...,   0.5000,   0.5000,   0.5000],\n",
       "        ...,\n",
       "        [332.3449,  42.7018,  39.4562,  ...,   0.0000,   0.0000,   0.0000],\n",
       "        [ 53.3587,  17.1402,  16.1576,  ...,   0.0000,   0.0000,   0.0000],\n",
       "        [ 73.5167,  18.5443,  17.8277,  ...,   0.5000,   0.5000,   0.5000]])"
      ]
     },
     "execution_count": 7,
     "metadata": {},
     "output_type": "execute_result"
    }
   ],
   "source": [
    "device = torch.device(\"cuda:0\" if torch.cuda.is_available() else \"cpu\")\n",
    "print(device)\n",
    "# If you don't have a GPU, buy a graphics card. I have for a long time used a 1060 GTX, which is not that expensive anymore.\n",
    "X_train = torch.tensor(X_train, device=device).float()\n",
    "X_test = torch.tensor(X_test, device=device).float()\n",
    "X_validation = torch.tensor(X_validation, device=device).float()\n",
    "y_train = torch.tensor(y_train, device=device).float()\n",
    "y_test = torch.tensor(y_test, device=device).float()\n",
    "y_validation = torch.tensor(y_validation, device=device).float()\n",
    "X_test"
   ]
  },
  {
   "cell_type": "code",
   "execution_count": 8,
   "metadata": {},
   "outputs": [],
   "source": [
    "train_dataset = TensorDataset(X_train, y_train)\n",
    "validation_dataset = TensorDataset(X_validation, y_validation)\n",
    "train_loader = torch.utils.data.DataLoader(dataset=train_dataset,\n",
    "                                              batch_size=256,\n",
    "                                              shuffle=True)\n",
    "validation_loader = torch.utils.data.DataLoader(dataset=validation_dataset,\n",
    "                                                  batch_size=256,\n",
    "                                                  shuffle=False)"
   ]
  },
  {
   "cell_type": "markdown",
   "metadata": {},
   "source": [
    "## create neural network\n",
    "### hyper-parameter that can tune to improve traning"
   ]
  },
  {
   "cell_type": "code",
   "execution_count": 9,
   "metadata": {},
   "outputs": [],
   "source": [
    "#can be easy tune when train\n",
    "hyperparameters={}\n",
    "hyperparameters[\"num_epochs\"] = 20 #number of passes through the training set\n",
    "hyperparameters[\"batch_size\"] = 128 #number of examples trained upon in each step of training\n",
    "hyperparameters[\"layers_units\"] = [X_train.T.shape[0], 128, 64, 32, 1] #layer 0 is the input layer\n",
    "hyperparameters[\"hidden_size\"] = 100\n",
    "hyperparameters[\"input_size\"] = X_train.T.shape[0]\n",
    "hyperparameters[\"learning_rate\"] = 1e-3 #learning rate\n",
    "hyperparameters[\"dropout\"] =0.8 #probability blacked out\n",
    "hyperparameters[\"training_size\"] = 0.01  #16,242 max\n",
    "\n",
    "#hyperparameters[\"layers_units\"]"
   ]
  },
  {
   "cell_type": "code",
   "execution_count": 10,
   "metadata": {
    "scrolled": true
   },
   "outputs": [
    {
     "name": "stdout",
     "output_type": "stream",
     "text": [
      "torch.Size([99, 471])\n",
      "471\n",
      "5\n"
     ]
    }
   ],
   "source": [
    "print(X_train[:99,:].shape)\n",
    "print(X_train.T.shape[0])\n",
    "print(len(hyperparameters[\"layers_units\"]))\n",
    "layer_units = hyperparameters[\"layers_units\"]"
   ]
  },
  {
   "cell_type": "markdown",
   "metadata": {},
   "source": [
    "## Quantum Neural Network(but it will take longer to train on a classical computer)"
   ]
  },
  {
   "cell_type": "code",
   "execution_count": 11,
   "metadata": {},
   "outputs": [
    {
     "data": {
      "text/plain": [
       "'class QKTCallback:\\n    \"\"\"Callback wrapper class.\"\"\"\\n\\n    def __init__(self) -> None:\\n        self._data = [[] for i in range(5)]\\n\\n    def callback(self, x0, x1=None, x2=None, x3=None, x4=None):\\n        \"\"\"\\n        Args:\\n            x0: number of function evaluations\\n            x1: the parameters\\n            x2: the function value\\n            x3: the stepsize\\n            x4: whether the step was accepted\\n        \"\"\"\\n        self._data[0].append(x0)\\n        self._data[1].append(x1)\\n        self._data[2].append(x2)\\n        self._data[3].append(x3)\\n        self._data[4].append(x4)\\n\\n    def get_callback_data(self):\\n        return self._data\\n\\n    def clear_callback_data(self):\\n        self._data = [[] for i in range(5)]'"
      ]
     },
     "execution_count": 11,
     "metadata": {},
     "output_type": "execute_result"
    }
   ],
   "source": [
    "'''class QKTCallback:\n",
    "    \"\"\"Callback wrapper class.\"\"\"\n",
    "\n",
    "    def __init__(self) -> None:\n",
    "        self._data = [[] for i in range(5)]\n",
    "\n",
    "    def callback(self, x0, x1=None, x2=None, x3=None, x4=None):\n",
    "        \"\"\"\n",
    "        Args:\n",
    "            x0: number of function evaluations\n",
    "            x1: the parameters\n",
    "            x2: the function value\n",
    "            x3: the stepsize\n",
    "            x4: whether the step was accepted\n",
    "        \"\"\"\n",
    "        self._data[0].append(x0)\n",
    "        self._data[1].append(x1)\n",
    "        self._data[2].append(x2)\n",
    "        self._data[3].append(x3)\n",
    "        self._data[4].append(x4)\n",
    "\n",
    "    def get_callback_data(self):\n",
    "        return self._data\n",
    "\n",
    "    def clear_callback_data(self):\n",
    "        self._data = [[] for i in range(5)]'''"
   ]
  },
  {
   "cell_type": "code",
   "execution_count": 12,
   "metadata": {},
   "outputs": [
    {
     "data": {
      "text/plain": [
       "'# Create a rotational layer to train. We will rotate each qubit the same amount.\\nuser_params = ParameterVector(\"θ\", 1)\\nfm0 = qiskit.QuantumCircuit(471)\\nfor i in range(471):\\n    fm0.ry(user_params[0], i)\\n\\n# Use ZZFeatureMap to represent input data\\nfm1 = ZZFeatureMap(471)\\n\\n# Create the feature map, composed of our two circuits\\nfm = fm0.compose(fm1)\\n\\nprint(circuit_drawer(fm))\\nprint(f\"Trainable parameters: {user_params}\")'"
      ]
     },
     "execution_count": 12,
     "metadata": {},
     "output_type": "execute_result"
    }
   ],
   "source": [
    "'''# Create a rotational layer to train. We will rotate each qubit the same amount.\n",
    "user_params = ParameterVector(\"θ\", 1)\n",
    "fm0 = qiskit.QuantumCircuit(471)\n",
    "for i in range(471):\n",
    "    fm0.ry(user_params[0], i)\n",
    "\n",
    "# Use ZZFeatureMap to represent input data\n",
    "fm1 = ZZFeatureMap(471)\n",
    "\n",
    "# Create the feature map, composed of our two circuits\n",
    "fm = fm0.compose(fm1)\n",
    "\n",
    "print(circuit_drawer(fm))\n",
    "print(f\"Trainable parameters: {user_params}\")'''"
   ]
  },
  {
   "cell_type": "code",
   "execution_count": 13,
   "metadata": {},
   "outputs": [
    {
     "data": {
      "text/plain": [
       "'backend = AerSimulator(method=\"statevector\")\\n\\n# Instantiate quantum kernel\\nquant_kernel = QuantumKernel(fm, user_parameters=user_params, quantum_instance=backend)\\n\\n# Set up the optimizer\\ncb_qkt = QKTCallback()\\nspsa_opt = SPSA(maxiter=10, callback=cb_qkt.callback, learning_rate=0.05, perturbation=0.05)\\n\\n# Instantiate a quantum kernel trainer.\\nqkt = QuantumKernelTrainer(\\n    quantum_kernel=quant_kernel, loss=\"svc_loss\", optimizer=spsa_opt, initial_point=[np.pi / 2]\\n)\\n# Train the kernel using QKT directly\\n\\nX_train1 = X_train[:99,:]\\ny_train1 = y_train[:99,:]\\n\\nqka_results = qkt.fit(X_train1, y_train1)\\noptimized_kernel = qka_results.quantum_kernel\\nprint(qka_results)'"
      ]
     },
     "execution_count": 13,
     "metadata": {},
     "output_type": "execute_result"
    }
   ],
   "source": [
    "'''backend = AerSimulator(method=\"statevector\")\n",
    "\n",
    "# Instantiate quantum kernel\n",
    "quant_kernel = QuantumKernel(fm, user_parameters=user_params, quantum_instance=backend)\n",
    "\n",
    "# Set up the optimizer\n",
    "cb_qkt = QKTCallback()\n",
    "spsa_opt = SPSA(maxiter=10, callback=cb_qkt.callback, learning_rate=0.05, perturbation=0.05)\n",
    "\n",
    "# Instantiate a quantum kernel trainer.\n",
    "qkt = QuantumKernelTrainer(\n",
    "    quantum_kernel=quant_kernel, loss=\"svc_loss\", optimizer=spsa_opt, initial_point=[np.pi / 2]\n",
    ")\n",
    "# Train the kernel using QKT directly\n",
    "\n",
    "X_train1 = X_train[:99,:]\n",
    "y_train1 = y_train[:99,:]\n",
    "\n",
    "qka_results = qkt.fit(X_train1, y_train1)\n",
    "optimized_kernel = qka_results.quantum_kernel\n",
    "print(qka_results)'''"
   ]
  },
  {
   "cell_type": "code",
   "execution_count": 14,
   "metadata": {},
   "outputs": [
    {
     "data": {
      "text/plain": [
       "'# Use QSVC for classification\\nqsvc = QSVC(quantum_kernel=optimized_kernel)\\n\\n# Fit the QSVC\\nqsvc.fit(X_train, y_train)\\n\\n# Predict the labels\\nlabels_test = qsvc.predict(X_test)\\n\\n# Evalaute the test accuracy\\naccuracy_test = metrics.balanced_accuracy_score(y_true=y_test, y_pred=labels_test)\\nprint(f\"accuracy test: {accuracy_test}\")'"
      ]
     },
     "execution_count": 14,
     "metadata": {},
     "output_type": "execute_result"
    }
   ],
   "source": [
    "'''# Use QSVC for classification\n",
    "qsvc = QSVC(quantum_kernel=optimized_kernel)\n",
    "\n",
    "# Fit the QSVC\n",
    "qsvc.fit(X_train, y_train)\n",
    "\n",
    "# Predict the labels\n",
    "labels_test = qsvc.predict(X_test)\n",
    "\n",
    "# Evalaute the test accuracy\n",
    "accuracy_test = metrics.balanced_accuracy_score(y_true=y_test, y_pred=labels_test)\n",
    "print(f\"accuracy test: {accuracy_test}\")'''"
   ]
  },
  {
   "cell_type": "code",
   "execution_count": 15,
   "metadata": {},
   "outputs": [
    {
     "data": {
      "text/plain": [
       "'plot_data = cb_qkt.get_callback_data()  # callback data\\nK = optimized_kernel.evaluate(X_train)  # kernel matrix evaluated on the training samples\\n\\nplt.rcParams[\"font.size\"] = 20\\nfig, ax = plt.subplots(1, 2, figsize=(14, 5))\\nax[0].plot([i + 1 for i in range(len(plot_data[0]))], np.array(plot_data[2]), c=\"k\", marker=\"o\")\\nax[0].set_xlabel(\"Iterations\")\\nax[0].set_ylabel(\"Loss\")\\nax[1].imshow(K, cmap=cm.get_cmap(\"bwr\", 20))\\nfig.tight_layout()\\nplt.show()'"
      ]
     },
     "execution_count": 15,
     "metadata": {},
     "output_type": "execute_result"
    }
   ],
   "source": [
    "'''plot_data = cb_qkt.get_callback_data()  # callback data\n",
    "K = optimized_kernel.evaluate(X_train)  # kernel matrix evaluated on the training samples\n",
    "\n",
    "plt.rcParams[\"font.size\"] = 20\n",
    "fig, ax = plt.subplots(1, 2, figsize=(14, 5))\n",
    "ax[0].plot([i + 1 for i in range(len(plot_data[0]))], np.array(plot_data[2]), c=\"k\", marker=\"o\")\n",
    "ax[0].set_xlabel(\"Iterations\")\n",
    "ax[0].set_ylabel(\"Loss\")\n",
    "ax[1].imshow(K, cmap=cm.get_cmap(\"bwr\", 20))\n",
    "fig.tight_layout()\n",
    "plt.show()'''"
   ]
  },
  {
   "cell_type": "markdown",
   "metadata": {},
   "source": [
    "### propagation"
   ]
  },
  {
   "cell_type": "markdown",
   "metadata": {},
   "source": [
    "#### load account and dev"
   ]
  },
  {
   "cell_type": "code",
   "execution_count": 16,
   "metadata": {},
   "outputs": [
    {
     "name": "stderr",
     "output_type": "stream",
     "text": [
      "ibmqfactory.load_account:WARNING:2022-03-24 18:19:56,743: Credentials are already in use. The existing account in the session will be replaced.\n"
     ]
    }
   ],
   "source": [
    "from qiskit import QuantumCircuit, transpile, Aer, IBMQ\n",
    "IBMQ.save_account('fb17afa861c2170c581e883349da83b1d508fa7a89d49714e76852f51f874de76988e70ad33b4a49b32d4fffb8f58c7c3abd2ab5be5d4b909bcc1af28e280848',overwrite=True)  #save your creds\n",
    "qiskit.IBMQ.load_account()\n",
    "provider = IBMQ.load_account()"
   ]
  },
  {
   "cell_type": "code",
   "execution_count": 17,
   "metadata": {},
   "outputs": [
    {
     "name": "stdout",
     "output_type": "stream",
     "text": [
      "\n",
      "Here is the list of cloud backends that are available to you:\n",
      "ibmq_qasm_simulator\n",
      "ibmq_armonk\n",
      "ibmq_santiago\n",
      "ibmq_bogota\n",
      "ibmq_lima\n",
      "ibmq_belem\n",
      "ibmq_quito\n",
      "simulator_statevector\n",
      "simulator_mps\n",
      "simulator_extended_stabilizer\n",
      "simulator_stabilizer\n",
      "ibmq_manila\n"
     ]
    }
   ],
   "source": [
    "available_cloud_backends = provider.backends() \n",
    "print('\\nHere is the list of cloud backends that are available to you:')\n",
    "for i in available_cloud_backends: print(i)"
   ]
  },
  {
   "cell_type": "markdown",
   "metadata": {},
   "source": [
    "#### Quantum-Classical with PyTorchConnector (change sources code to detach())"
   ]
  },
  {
   "cell_type": "code",
   "execution_count": 18,
   "metadata": {},
   "outputs": [
    {
     "name": "stdout",
     "output_type": "stream",
     "text": [
      "ComposedOp([\n",
      "  OperatorMeasurement(1.0 * ZZ),\n",
      "  CircuitStateFn(\n",
      "       ┌──────────────────────────┐┌──────────────────────────────────────┐\n",
      "  q_0: ┤0                         ├┤0                                     ├\n",
      "       │  ZZFeatureMap(x[0],x[1]) ││  RealAmplitudes(θ[0],θ[1],θ[2],θ[3]) │\n",
      "  q_1: ┤1                         ├┤1                                     ├\n",
      "       └──────────────────────────┘└──────────────────────────────────────┘\n",
      "  )\n",
      "])\n"
     ]
    }
   ],
   "source": [
    "qi = QuantumInstance(Aer.get_backend(\"aer_simulator_statevector\"))\n",
    "\n",
    "# Define QNN\n",
    "feature_map = ZZFeatureMap(2)\n",
    "ansatz = RealAmplitudes(2, reps=1)\n",
    "# REMEMBER TO SET input_gradients=True FOR ENABLING HYBRID GRADIENT BACKPROP\n",
    "qnn4 = TwoLayerQNN(\n",
    "    2, feature_map, ansatz, input_gradients=True, exp_val=AerPauliExpectation(), quantum_instance=qi\n",
    ")\n",
    "print(qnn4.operator)"
   ]
  },
  {
   "cell_type": "code",
   "execution_count": 19,
   "metadata": {},
   "outputs": [
    {
     "name": "stdout",
     "output_type": "stream",
     "text": [
      "ComposedOp([\n",
      "  OperatorMeasurement(1.0 * Z),\n",
      "  CircuitStateFn(\n",
      "     ┌───────┐┌───────┐\n",
      "  q: ┤ fm(x) ├┤ vf(y) ├\n",
      "     └───────┘└───────┘\n",
      "  )\n",
      "])\n"
     ]
    }
   ],
   "source": [
    "# Construct simple feature map\n",
    "param_x = Parameter(\"x\")\n",
    "feature_map = QuantumCircuit(1, name=\"fm\")\n",
    "feature_map.ry(param_x, 0)\n",
    "\n",
    "# Construct simple feature map\n",
    "param_y = Parameter(\"y\")\n",
    "ansatz = QuantumCircuit(1, name=\"vf\")\n",
    "ansatz.ry(param_y, 0)\n",
    "\n",
    "# Construct QNN\n",
    "qnn3 = TwoLayerQNN(1, feature_map, ansatz, quantum_instance=qi)\n",
    "print(qnn3.operator)\n",
    "\n",
    "# Set up PyTorch module\n",
    "# Reminder: If we don't explicitly declare the initial weights\n",
    "# they are chosen uniformly at random from [-1, 1].\n",
    "initial_weights = 0.1 * (2 * algorithm_globals.random.random(qnn3.num_weights) - 1)"
   ]
  },
  {
   "cell_type": "markdown",
   "metadata": {},
   "source": [
    "pennylane"
   ]
  },
  {
   "cell_type": "code",
   "execution_count": 20,
   "metadata": {},
   "outputs": [],
   "source": [
    "n_qubits = 2\n",
    "dev = qml.device(\"default.qubit\", wires=n_qubits)\n",
    "\n",
    "@qml.qnode(dev)\n",
    "def qnode(inputs, weights):\n",
    "    qml.templates.AngleEmbedding(inputs, wires=range(n_qubits))\n",
    "    qml.templates.StronglyEntanglingLayers(weights, wires=range(n_qubits))\n",
    "    return qml.expval(qml.PauliZ(0)), qml.expval(qml.PauliZ(1))"
   ]
  },
  {
   "cell_type": "code",
   "execution_count": 21,
   "metadata": {},
   "outputs": [],
   "source": [
    "weight_shapes = {\"weights\": (3, n_qubits, 3)}"
   ]
  },
  {
   "cell_type": "markdown",
   "metadata": {},
   "source": [
    "## Hybrid Neural Network\n"
   ]
  },
  {
   "cell_type": "code",
   "execution_count": 22,
   "metadata": {},
   "outputs": [],
   "source": [
    "class HNN(nn.Module): \n",
    "    def __init__(self,inpt,hd,drop_out): #'''layer_units=hyperparameters[\"layers_units\"]'''\n",
    "        super(HNN, self).__init__()\n",
    "        #[setdata.drop(['Eat'], axis = 1).values.T.shape[0], 128, 64, 32, 1]\n",
    "        #layer_1,layer_2,layer_3,layer_4,layer_5 = layer_units\n",
    "        self.linear1 = nn.Linear(inpt, hd)\n",
    "        self.linear2 = nn.Linear(hd, hd)\n",
    "        self.linear3 = nn.Linear(hd, hd) \n",
    "        self.linear4 = nn.Linear(hd, 2) \n",
    "        self.linear5 = nn.Linear(2,1)\n",
    "        self.qnn1 = TorchConnector(qnn3,initial_weights)\n",
    "        self.qnn = TorchConnector(qnn4)\n",
    "        self.qlayer = qml.qnn.TorchLayer(qnode, weight_shapes)\n",
    "        #self.qnnn = torch_runtime_client.fit(train_loader=train_loader)\n",
    "        #self.hybrid2 = \n",
    "        #normalization layer\n",
    "        self.ln1 = nn.LayerNorm(hd)\n",
    "        self.ln2 = nn.LayerNorm(hd)\n",
    "        self.ln3 = nn.LayerNorm(hd)\n",
    "        #self.hybrid2 = Hybrid(1,provider.get_backend('ibmq_qasm_simulator'), 100, np.pi / 2)\n",
    "        self.relu = nn.ReLU()\n",
    "        self.dropout = nn.Dropout(drop_out)\n",
    "    def forward(self, x):\n",
    "        out = self.linear1(x)\n",
    "        out = self.ln1(out)\n",
    "        out = self.relu(out)\n",
    "        \n",
    "        out = self.dropout(out)#drop_out\n",
    "        \n",
    "        out = self.linear2(out)\n",
    "        out = self.ln1(out)\n",
    "        out = self.relu(out)\n",
    "        \n",
    "        out = self.dropout(out)#drop_out\n",
    "        \n",
    "        out = self.linear3(out)\n",
    "        out = self.ln3(out)\n",
    "        out = self.relu(out)\n",
    "        \n",
    "       # out = self.dropout(out)\n",
    "        out = self.linear4(out)\n",
    "        #out = self.qnn(out)\n",
    "        #Final output layer\n",
    "        #out = self.qnn1(out)\n",
    "        out = self.qlayer(out)\n",
    "        out = self.linear5(out)\n",
    "        #out = self.linear5(out)\n",
    "        #out = self.qnn1(out)\n",
    "        #out = self.qnn(out)\n",
    "        return out"
   ]
  },
  {
   "cell_type": "markdown",
   "metadata": {},
   "source": [
    "## Classical Neural Network"
   ]
  },
  {
   "cell_type": "code",
   "execution_count": 23,
   "metadata": {},
   "outputs": [],
   "source": [
    "class CNN(nn.Module): \n",
    "    def __init__(self,drop_out,layer_units): #'''layer_units=hyperparameters[\"layers_units\"]''' #inpt,hd,\n",
    "        super(CNN, self).__init__()\n",
    "        #[setdata.drop(['Eat'], axis = 1).values.T.shape[0], 128, 64, 32, 1]\n",
    "        layer_1,layer_2,layer_3,layer_4,layer_5 = layer_units\n",
    "        '''for i in range(int(len(layer_units))-1):\n",
    "            exec('self.linear'+str(i+1)+'=layer_'+str(i+1)+',layer_'+str(i+2))'''\n",
    "            #globals()['self.linear%s' % i] = nn.Linear(layer_units[i], layer_units[i+1])\n",
    "        \n",
    "        self.linear1 = nn.Linear(layer_1,layer_2)\n",
    "        self.linear2 = nn.Linear(layer_2, layer_3)\n",
    "        self.linear3 = nn.Linear(layer_3, layer_4) \n",
    "        self.linear4 = nn.Linear(layer_4, layer_5)\n",
    "        #self.hybrid2 = \n",
    "        #normalization layer\n",
    "        '''for i in range(int(len(layer_units))-2):\n",
    "            exec('self.ln'+ str(i+1)+'= nn.LayerNorm(layer_['+str(i+1)+'])')\n",
    "            #globals()['self.ln%s'%(i+1)] = nn.LayerNorm(layer_units[i+1])'''\n",
    "        self.ln1 = nn.LayerNorm(layer_2)\n",
    "        self.ln2 = nn.LayerNorm(layer_3)\n",
    "        self.ln3 = nn.LayerNorm(layer_4)\n",
    "        self.relu = nn.ReLU()\n",
    "        self.dropout = nn.Dropout(drop_out)\n",
    "    def forward(self, x):\n",
    "        #out = self.linear1(x)\n",
    "        #out = self.ln1(out)\n",
    "        #out = self.relu(out)\n",
    "        #out = self.dropout(out)\n",
    "        '''for i in range(len(layer_units)-2):\n",
    "            #out = globals()['self.linear%s'%(i+2)](out)\n",
    "            out = exec('self.linear[' + str(i+1)+'](out)')\n",
    "            #out = globals()['self.ln%s'%(i+2)](out)\n",
    "            out = exec('self.ln[' + str(i+1)+'](out)')\n",
    "            out = self.relu(out)\n",
    "            out = self.dropout(out)\n",
    "        out = self.linear4(out)'''\n",
    "        out = self.linear1(x)\n",
    "        out = self.ln1(out)\n",
    "        out = self.relu(out)\n",
    "        \n",
    "        out = self.dropout(out)#drop_out\n",
    "        \n",
    "        out = self.linear2(out)\n",
    "        out = self.ln2(out)\n",
    "        out = self.relu(out)\n",
    "        \n",
    "        out = self.dropout(out)#drop_out\n",
    "        \n",
    "        out = self.linear3(out)\n",
    "        out = self.ln3(out)\n",
    "        out = self.relu(out)\n",
    "        \n",
    "        #out = self.dropout(out)\n",
    "        #Final output layer\n",
    "        out = self.linear4(out)\n",
    "        return out"
   ]
  },
  {
   "cell_type": "markdown",
   "metadata": {},
   "source": [
    "## Training the Network\n"
   ]
  },
  {
   "cell_type": "code",
   "execution_count": 25,
   "metadata": {},
   "outputs": [],
   "source": [
    "from torch.autograd import Variable\n",
    "def training_model(X_train,X_validation,y_train,y_validation, hyperparameters, neural_select):\n",
    "    num_epochs = hyperparameters[\"num_epochs\"]#\n",
    "    batch_size = hyperparameters[\"batch_size\"]#\n",
    "    layers_units = hyperparameters[\"layers_units\"] #bugs\n",
    "    inpt = hyperparameters[\"input_size\"]\n",
    "    hd = hyperparameters[\"hidden_size\"]\n",
    "    learning_rate = hyperparameters[\"learning_rate\"] #\n",
    "    drop_out = hyperparameters[\"dropout\"] # for dropout\n",
    "    tra_size = hyperparameters[\"training_size\"]\n",
    "    #tra_size = 1\n",
    "    trat_size =  int(np.round(tra_size* X_train.T.shape[0]))\n",
    "    trav_size =  int(np.round(tra_size* X_validation.T.shape[0]))\n",
    "    \n",
    "    device = torch.device(\"cuda:0\" if torch.cuda.is_available() else \"cpu\")\n",
    "    print(device)\n",
    "    \n",
    "    X_train = torch.tensor(X_train[:trat_size,:], device=device).float()\n",
    "    X_validation = torch.tensor(X_validation[:trav_size,:], device=device).float()\n",
    "    \n",
    "    y_train = torch.tensor(y_train[:trat_size,:], device=device).float()\n",
    "    y_validation = torch.tensor(y_validation[:trav_size,:], device=device).float()\n",
    "    \n",
    "    train_dataset = TensorDataset(X_train, y_train)\n",
    "    validation_dataset = TensorDataset(X_validation, y_validation)\n",
    "    train_loader = torch.utils.data.DataLoader(dataset=train_dataset,\n",
    "                                              batch_size=batch_size,\n",
    "                                              shuffle=True)\n",
    "    validation_loader = torch.utils.data.DataLoader(dataset=validation_dataset,\n",
    "                                              batch_size=batch_size,\n",
    "                                          shuffle=False)\n",
    "    \n",
    "    criterion = nn.MSELoss(reduction=\"sum\")\n",
    "    if neural_select == \"HNN\":\n",
    "        model = HNN(inpt, hd, drop_out)\n",
    "    elif neural_select == \"CNN\":\n",
    "        model = CNN(drop_out,layers_units)#inpt, hd,\n",
    "    optimizer = optim.Adam(model.parameters(), lr=learning_rate)\n",
    "    \n",
    "    model.train() #Ensure the network is in \"train\" mode with dropouts active\n",
    "    epochs = num_epochs\n",
    "    for e in range(epochs):\n",
    "        loss = 0\n",
    "        for x, y in train_loader:\n",
    "            # Training pass\n",
    "            optimizer.zero_grad() # Initialize the gradients, which will be recorded during the forward pa\n",
    "            \n",
    "            output = model(x)#torch.Tensor(x)) #Forward pass of the mini-batch\n",
    "            #torch.tensor(y,dtype=torch.float32,requires_grad=True)\n",
    "            loss = criterion(output, y)#torch.Tensor(y)) #torch.tensor(y,dtype=torch.float32,requires_grad=True)) #Computing the loss\n",
    "            loss.backward() # calculate the backward pass\n",
    "            optimizer.step() # Optimize the weights\n",
    "             \n",
    "            loss += loss.item()\n",
    "        else:\n",
    "            if e%10 == 0:\n",
    "                validation_loss = torch.mean(( y_validation - model(X_validation) )**2).item()\n",
    "                print(\"Epoch: %3i Training loss: %0.2F Validation loss: %0.2F\"%(e,(loss/len(train_loader)), validation_loss))\n",
    "    \n",
    "    model.eval() #test\n",
    "    y_pred_train = model(X_train)\n",
    "    #print(y_pred_train)\n",
    "    y_pred_validation = model(X_validation)\n",
    "    y_pred_test = model(X_test)\n",
    "    print(\"root_sqr_error\")\n",
    "    print(\"train error \",torch.mean(( y_train - y_pred_train )**2).item())\n",
    "    print(\"validation error\",torch.mean(( y_validation - y_pred_validation )**2).item())\n",
    "    print(\"test error\",torch.mean(( y_test - y_pred_test )**2).item())\n",
    "    #print(model)\n",
    "    if neural_select == \"CNN\" or neural_select == \"HNN\":\n",
    "        def flatten(tensor):\n",
    "            return tensor.cpu().detach().numpy().flatten()\n",
    "        #print(flatten(y_test))\n",
    "        #print(flatten(y_pred_test))\n",
    "        plt.scatter(flatten(y_pred_test), flatten(y_test), alpha=0.5, label=\"Test\")\n",
    "        plt.scatter(flatten(y_pred_train), flatten(y_train), alpha=0.1, label=\"Train\")\n",
    "        plt.legend()\n",
    "        #plt.plot([-3,3], [-3,3], c=\"b\")\n",
    "        plt.plot([-1.5, 1.5], [-1.5,1.5], c=\"b\")\n",
    "    \n",
    "    \n",
    "    return model,device"
   ]
  },
  {
   "cell_type": "markdown",
   "metadata": {},
   "source": [
    "## Predict function"
   ]
  },
  {
   "cell_type": "code",
   "execution_count": 24,
   "metadata": {},
   "outputs": [],
   "source": [
    "def predict_ground_state(matrics,model):\n",
    "    #x = feature_select.transform(matrics)\n",
    "    x_filtered = feature_select.transform(matrics.reshape(1,-1))\n",
    "    x_tensor = torch.tensor(x_filtered,device=device).float()\n",
    "    if model == \"H_model\":\n",
    "        prediction = H_model(x_tensor)\n",
    "    elif model == \"C_model\":\n",
    "        prediction = C_model(x_tensor)\n",
    "    elif model == \"Q_model\":\n",
    "        prediction = Q_model(x_tensor)\n",
    "    px = scaler.inverse_transform(prediction.cpu().detach().numpy())\n",
    "    return px[0][0]"
   ]
  },
  {
   "cell_type": "markdown",
   "metadata": {},
   "source": [
    "## HybirdNN_Result \n",
    "(qiskit machine learning version >= 0.4.0 or change torchconnector from qiskit-machine-learning module .numpy() to detach().numpy()"
   ]
  },
  {
   "cell_type": "code",
   "execution_count": 103,
   "metadata": {
    "scrolled": false
   },
   "outputs": [
    {
     "name": "stdout",
     "output_type": "stream",
     "text": [
      "cpu\n"
     ]
    },
    {
     "name": "stderr",
     "output_type": "stream",
     "text": [
      "C:\\Users\\junli\\AppData\\Local\\Temp\\ipykernel_12804\\3220310241.py:18: UserWarning: To copy construct from a tensor, it is recommended to use sourceTensor.clone().detach() or sourceTensor.clone().detach().requires_grad_(True), rather than torch.tensor(sourceTensor).\n",
      "  X_train = torch.tensor(X_train[:trat_size,:], device=device).float()\n",
      "C:\\Users\\junli\\AppData\\Local\\Temp\\ipykernel_12804\\3220310241.py:19: UserWarning: To copy construct from a tensor, it is recommended to use sourceTensor.clone().detach() or sourceTensor.clone().detach().requires_grad_(True), rather than torch.tensor(sourceTensor).\n",
      "  X_validation = torch.tensor(X_validation[:trav_size,:], device=device).float()\n",
      "C:\\Users\\junli\\AppData\\Local\\Temp\\ipykernel_12804\\3220310241.py:21: UserWarning: To copy construct from a tensor, it is recommended to use sourceTensor.clone().detach() or sourceTensor.clone().detach().requires_grad_(True), rather than torch.tensor(sourceTensor).\n",
      "  y_train = torch.tensor(y_train[:trat_size,:], device=device).float()\n",
      "C:\\Users\\junli\\AppData\\Local\\Temp\\ipykernel_12804\\3220310241.py:22: UserWarning: To copy construct from a tensor, it is recommended to use sourceTensor.clone().detach() or sourceTensor.clone().detach().requires_grad_(True), rather than torch.tensor(sourceTensor).\n",
      "  y_validation = torch.tensor(y_validation[:trav_size,:], device=device).float()\n"
     ]
    },
    {
     "name": "stdout",
     "output_type": "stream",
     "text": [
      "Epoch:   0 Training loss: 1.98 Validation loss: 1.24\n",
      "Epoch:  10 Training loss: 3.56 Validation loss: 0.52\n",
      "Epoch:  20 Training loss: 0.78 Validation loss: 0.35\n",
      "Epoch:  30 Training loss: 1.33 Validation loss: 0.29\n",
      "Epoch:  40 Training loss: 1.83 Validation loss: 0.23\n",
      "root_sqr_error\n",
      "train error  0.08811318874359131\n",
      "validation error 0.1231977567076683\n",
      "test error 0.0903109610080719\n"
     ]
    },
    {
     "data": {
      "image/png": "[encoded data removed]",
      "text/plain": [
       "<Figure size 432x288 with 1 Axes>"
      ]
     },
     "metadata": {
      "needs_background": "light"
     },
     "output_type": "display_data"
    }
   ],
   "source": [
    "#prev_parameters = copy.deepcopy(hyperparameters)\n",
    "hyperparameters[\"training_size\"] = 1\n",
    "hyperparameters[\"num_epochs\"] = 50\n",
    "hyperparameters[\"learning_rate\"] = 1e-2\n",
    "hyperparameters[\"hidden_size\"] = 100\n",
    "hyperparameters[\"batch_size\"] = 64\n",
    " \n",
    "neural_select = \"HNN\"\n",
    "\n",
    "H_model,device = training_model(X_train,X_validation,y_train,y_validation,hyperparameters,neural_select)"
   ]
  },
  {
   "cell_type": "code",
   "execution_count": 113,
   "metadata": {},
   "outputs": [
    {
     "name": "stdout",
     "output_type": "stream",
     "text": [
      "cpu\n"
     ]
    },
    {
     "name": "stderr",
     "output_type": "stream",
     "text": [
      "C:\\Users\\junli\\AppData\\Local\\Temp\\ipykernel_12804\\3220310241.py:18: UserWarning: To copy construct from a tensor, it is recommended to use sourceTensor.clone().detach() or sourceTensor.clone().detach().requires_grad_(True), rather than torch.tensor(sourceTensor).\n",
      "  X_train = torch.tensor(X_train[:trat_size,:], device=device).float()\n",
      "C:\\Users\\junli\\AppData\\Local\\Temp\\ipykernel_12804\\3220310241.py:19: UserWarning: To copy construct from a tensor, it is recommended to use sourceTensor.clone().detach() or sourceTensor.clone().detach().requires_grad_(True), rather than torch.tensor(sourceTensor).\n",
      "  X_validation = torch.tensor(X_validation[:trav_size,:], device=device).float()\n",
      "C:\\Users\\junli\\AppData\\Local\\Temp\\ipykernel_12804\\3220310241.py:21: UserWarning: To copy construct from a tensor, it is recommended to use sourceTensor.clone().detach() or sourceTensor.clone().detach().requires_grad_(True), rather than torch.tensor(sourceTensor).\n",
      "  y_train = torch.tensor(y_train[:trat_size,:], device=device).float()\n",
      "C:\\Users\\junli\\AppData\\Local\\Temp\\ipykernel_12804\\3220310241.py:22: UserWarning: To copy construct from a tensor, it is recommended to use sourceTensor.clone().detach() or sourceTensor.clone().detach().requires_grad_(True), rather than torch.tensor(sourceTensor).\n",
      "  y_validation = torch.tensor(y_validation[:trav_size,:], device=device).float()\n"
     ]
    },
    {
     "name": "stdout",
     "output_type": "stream",
     "text": [
      "Epoch:   0 Training loss: 3.24 Validation loss: 1.19\n",
      "Epoch:  10 Training loss: 2.31 Validation loss: 0.55\n",
      "Epoch:  20 Training loss: 1.89 Validation loss: 0.37\n",
      "root_sqr_error\n",
      "train error  0.12861448526382446\n",
      "validation error 0.17138731479644775\n",
      "test error 0.13142141699790955\n"
     ]
    },
    {
     "data": {
      "image/png": "[encoded data removed]",
      "text/plain": [
       "<Figure size 432x288 with 1 Axes>"
      ]
     },
     "metadata": {
      "needs_background": "light"
     },
     "output_type": "display_data"
    }
   ],
   "source": [
    "#prev_parameters = copy.deepcopy(hyperparameters)\n",
    "hyperparameters[\"training_size\"] = 1\n",
    "hyperparameters[\"num_epochs\"] = 30\n",
    "hyperparameters[\"learning_rate\"] = 1e-2\n",
    "hyperparameters[\"hidden_size\"] = 100\n",
    "hyperparameters[\"batch_size\"] = 64\n",
    " \n",
    "neural_select = \"HNN\"\n",
    "\n",
    "H_model,device = training_model(X_train,X_validation,y_train,y_validation,hyperparameters,neural_select)"
   ]
  },
  {
   "cell_type": "code",
   "execution_count": 114,
   "metadata": {},
   "outputs": [
    {
     "name": "stdout",
     "output_type": "stream",
     "text": [
      "cpu\n"
     ]
    },
    {
     "name": "stderr",
     "output_type": "stream",
     "text": [
      "C:\\Users\\junli\\AppData\\Local\\Temp\\ipykernel_12804\\3220310241.py:18: UserWarning: To copy construct from a tensor, it is recommended to use sourceTensor.clone().detach() or sourceTensor.clone().detach().requires_grad_(True), rather than torch.tensor(sourceTensor).\n",
      "  X_train = torch.tensor(X_train[:trat_size,:], device=device).float()\n",
      "C:\\Users\\junli\\AppData\\Local\\Temp\\ipykernel_12804\\3220310241.py:19: UserWarning: To copy construct from a tensor, it is recommended to use sourceTensor.clone().detach() or sourceTensor.clone().detach().requires_grad_(True), rather than torch.tensor(sourceTensor).\n",
      "  X_validation = torch.tensor(X_validation[:trav_size,:], device=device).float()\n",
      "C:\\Users\\junli\\AppData\\Local\\Temp\\ipykernel_12804\\3220310241.py:21: UserWarning: To copy construct from a tensor, it is recommended to use sourceTensor.clone().detach() or sourceTensor.clone().detach().requires_grad_(True), rather than torch.tensor(sourceTensor).\n",
      "  y_train = torch.tensor(y_train[:trat_size,:], device=device).float()\n",
      "C:\\Users\\junli\\AppData\\Local\\Temp\\ipykernel_12804\\3220310241.py:22: UserWarning: To copy construct from a tensor, it is recommended to use sourceTensor.clone().detach() or sourceTensor.clone().detach().requires_grad_(True), rather than torch.tensor(sourceTensor).\n",
      "  y_validation = torch.tensor(y_validation[:trav_size,:], device=device).float()\n"
     ]
    },
    {
     "name": "stdout",
     "output_type": "stream",
     "text": [
      "Epoch:   0 Training loss: 7.66 Validation loss: 1.41\n",
      "Epoch:  10 Training loss: 2.94 Validation loss: 0.64\n",
      "root_sqr_error\n",
      "train error  0.3388689160346985\n",
      "validation error 0.4659794867038727\n",
      "test error 0.3691784739494324\n"
     ]
    },
    {
     "data": {
      "image/png": "[encoded data removed]",
      "text/plain": [
       "<Figure size 432x288 with 1 Axes>"
      ]
     },
     "metadata": {
      "needs_background": "light"
     },
     "output_type": "display_data"
    }
   ],
   "source": [
    "#prev_parameters = copy.deepcopy(hyperparameters)\n",
    "hyperparameters[\"training_size\"] = 1\n",
    "hyperparameters[\"num_epochs\"] = 13\n",
    "hyperparameters[\"learning_rate\"] = 1e-2\n",
    "hyperparameters[\"hidden_size\"] = 100\n",
    "hyperparameters[\"batch_size\"] = 64\n",
    " \n",
    "neural_select = \"HNN\"\n",
    "\n",
    "H_model,device = training_model(X_train,X_validation,y_train,y_validation,hyperparameters,neural_select)"
   ]
  },
  {
   "cell_type": "code",
   "execution_count": 116,
   "metadata": {},
   "outputs": [
    {
     "name": "stdout",
     "output_type": "stream",
     "text": [
      "cpu\n"
     ]
    },
    {
     "name": "stderr",
     "output_type": "stream",
     "text": [
      "C:\\Users\\junli\\AppData\\Local\\Temp\\ipykernel_12804\\3220310241.py:18: UserWarning: To copy construct from a tensor, it is recommended to use sourceTensor.clone().detach() or sourceTensor.clone().detach().requires_grad_(True), rather than torch.tensor(sourceTensor).\n",
      "  X_train = torch.tensor(X_train[:trat_size,:], device=device).float()\n",
      "C:\\Users\\junli\\AppData\\Local\\Temp\\ipykernel_12804\\3220310241.py:19: UserWarning: To copy construct from a tensor, it is recommended to use sourceTensor.clone().detach() or sourceTensor.clone().detach().requires_grad_(True), rather than torch.tensor(sourceTensor).\n",
      "  X_validation = torch.tensor(X_validation[:trav_size,:], device=device).float()\n",
      "C:\\Users\\junli\\AppData\\Local\\Temp\\ipykernel_12804\\3220310241.py:21: UserWarning: To copy construct from a tensor, it is recommended to use sourceTensor.clone().detach() or sourceTensor.clone().detach().requires_grad_(True), rather than torch.tensor(sourceTensor).\n",
      "  y_train = torch.tensor(y_train[:trat_size,:], device=device).float()\n",
      "C:\\Users\\junli\\AppData\\Local\\Temp\\ipykernel_12804\\3220310241.py:22: UserWarning: To copy construct from a tensor, it is recommended to use sourceTensor.clone().detach() or sourceTensor.clone().detach().requires_grad_(True), rather than torch.tensor(sourceTensor).\n",
      "  y_validation = torch.tensor(y_validation[:trav_size,:], device=device).float()\n"
     ]
    },
    {
     "name": "stdout",
     "output_type": "stream",
     "text": [
      "Epoch:   0 Training loss: 233.37 Validation loss: 1.31\n",
      "Epoch:  10 Training loss: 143.46 Validation loss: 0.83\n",
      "root_sqr_error\n",
      "train error  0.4847434163093567\n",
      "validation error 0.7018319964408875\n",
      "test error 0.5301563143730164\n"
     ]
    },
    {
     "data": {
      "image/png": "[encoded data removed]",
      "text/plain": [
       "<Figure size 432x288 with 1 Axes>"
      ]
     },
     "metadata": {
      "needs_background": "light"
     },
     "output_type": "display_data"
    }
   ],
   "source": [
    "#prev_parameters = copy.deepcopy(hyperparameters)\n",
    "hyperparameters[\"training_size\"] = 1\n",
    "hyperparameters[\"num_epochs\"] = 13\n",
    "hyperparameters[\"learning_rate\"] = 1e-2\n",
    "hyperparameters[\"hidden_size\"] = 100\n",
    "hyperparameters[\"batch_size\"] = 256\n",
    " \n",
    "neural_select = \"HNN\"\n",
    "\n",
    "H_model,device = training_model(X_train,X_validation,y_train,y_validation,hyperparameters,neural_select)"
   ]
  },
  {
   "cell_type": "code",
   "execution_count": 117,
   "metadata": {},
   "outputs": [
    {
     "name": "stdout",
     "output_type": "stream",
     "text": [
      "cpu\n"
     ]
    },
    {
     "name": "stderr",
     "output_type": "stream",
     "text": [
      "C:\\Users\\junli\\AppData\\Local\\Temp\\ipykernel_12804\\3220310241.py:18: UserWarning: To copy construct from a tensor, it is recommended to use sourceTensor.clone().detach() or sourceTensor.clone().detach().requires_grad_(True), rather than torch.tensor(sourceTensor).\n",
      "  X_train = torch.tensor(X_train[:trat_size,:], device=device).float()\n",
      "C:\\Users\\junli\\AppData\\Local\\Temp\\ipykernel_12804\\3220310241.py:19: UserWarning: To copy construct from a tensor, it is recommended to use sourceTensor.clone().detach() or sourceTensor.clone().detach().requires_grad_(True), rather than torch.tensor(sourceTensor).\n",
      "  X_validation = torch.tensor(X_validation[:trav_size,:], device=device).float()\n",
      "C:\\Users\\junli\\AppData\\Local\\Temp\\ipykernel_12804\\3220310241.py:21: UserWarning: To copy construct from a tensor, it is recommended to use sourceTensor.clone().detach() or sourceTensor.clone().detach().requires_grad_(True), rather than torch.tensor(sourceTensor).\n",
      "  y_train = torch.tensor(y_train[:trat_size,:], device=device).float()\n",
      "C:\\Users\\junli\\AppData\\Local\\Temp\\ipykernel_12804\\3220310241.py:22: UserWarning: To copy construct from a tensor, it is recommended to use sourceTensor.clone().detach() or sourceTensor.clone().detach().requires_grad_(True), rather than torch.tensor(sourceTensor).\n",
      "  y_validation = torch.tensor(y_validation[:trav_size,:], device=device).float()\n"
     ]
    },
    {
     "name": "stdout",
     "output_type": "stream",
     "text": [
      "Epoch:   0 Training loss: 954.73 Validation loss: 1.18\n",
      "Epoch:  10 Training loss: 620.09 Validation loss: 0.75\n",
      "root_sqr_error\n",
      "train error  0.5067705512046814\n",
      "validation error 0.6390488147735596\n",
      "test error 0.5431897044181824\n"
     ]
    },
    {
     "data": {
      "image/png": "[encoded data removed]",
      "text/plain": [
       "<Figure size 432x288 with 1 Axes>"
      ]
     },
     "metadata": {
      "needs_background": "light"
     },
     "output_type": "display_data"
    }
   ],
   "source": [
    "#prev_parameters = copy.deepcopy(hyperparameters)\n",
    "hyperparameters[\"training_size\"] = 1\n",
    "hyperparameters[\"num_epochs\"] = 13\n",
    "hyperparameters[\"learning_rate\"] = 1e-2\n",
    "hyperparameters[\"hidden_size\"] = 100\n",
    "hyperparameters[\"batch_size\"] = 512\n",
    " \n",
    "neural_select = \"HNN\"\n",
    "\n",
    "H_model,device = training_model(X_train,X_validation,y_train,y_validation,hyperparameters,neural_select)"
   ]
  },
  {
   "cell_type": "code",
   "execution_count": 112,
   "metadata": {
    "scrolled": true
   },
   "outputs": [
    {
     "name": "stdout",
     "output_type": "stream",
     "text": [
      "-7.154014\n",
      "[-7.92727529]\n"
     ]
    }
   ],
   "source": [
    "x = random.sample(range(1,X.shape[0]),1)\n",
    "print(predict_ground_state(X[int(x[0]),:],\"H_model\"))\n",
    "print(y[int(x[0]),:])"
   ]
  },
  {
   "cell_type": "markdown",
   "metadata": {},
   "source": [
    "## CNN_Result"
   ]
  },
  {
   "cell_type": "code",
   "execution_count": 118,
   "metadata": {},
   "outputs": [
    {
     "name": "stdout",
     "output_type": "stream",
     "text": [
      "cpu\n",
      "Epoch:   0 Training loss: 5.13 Validation loss: 1.16\n"
     ]
    },
    {
     "name": "stderr",
     "output_type": "stream",
     "text": [
      "C:\\Users\\junli\\AppData\\Local\\Temp\\ipykernel_12804\\3220310241.py:18: UserWarning: To copy construct from a tensor, it is recommended to use sourceTensor.clone().detach() or sourceTensor.clone().detach().requires_grad_(True), rather than torch.tensor(sourceTensor).\n",
      "  X_train = torch.tensor(X_train[:trat_size,:], device=device).float()\n",
      "C:\\Users\\junli\\AppData\\Local\\Temp\\ipykernel_12804\\3220310241.py:19: UserWarning: To copy construct from a tensor, it is recommended to use sourceTensor.clone().detach() or sourceTensor.clone().detach().requires_grad_(True), rather than torch.tensor(sourceTensor).\n",
      "  X_validation = torch.tensor(X_validation[:trav_size,:], device=device).float()\n",
      "C:\\Users\\junli\\AppData\\Local\\Temp\\ipykernel_12804\\3220310241.py:21: UserWarning: To copy construct from a tensor, it is recommended to use sourceTensor.clone().detach() or sourceTensor.clone().detach().requires_grad_(True), rather than torch.tensor(sourceTensor).\n",
      "  y_train = torch.tensor(y_train[:trat_size,:], device=device).float()\n",
      "C:\\Users\\junli\\AppData\\Local\\Temp\\ipykernel_12804\\3220310241.py:22: UserWarning: To copy construct from a tensor, it is recommended to use sourceTensor.clone().detach() or sourceTensor.clone().detach().requires_grad_(True), rather than torch.tensor(sourceTensor).\n",
      "  y_validation = torch.tensor(y_validation[:trav_size,:], device=device).float()\n"
     ]
    },
    {
     "name": "stdout",
     "output_type": "stream",
     "text": [
      "Epoch:  10 Training loss: 1.60 Validation loss: 0.38\n",
      "Epoch:  20 Training loss: 1.44 Validation loss: 0.29\n",
      "Epoch:  30 Training loss: 1.10 Validation loss: 0.21\n",
      "Epoch:  40 Training loss: 0.73 Validation loss: 0.22\n",
      "root_sqr_error\n",
      "train error  0.05092649906873703\n",
      "validation error 0.0712260752916336\n",
      "test error 0.05334988981485367\n"
     ]
    },
    {
     "data": {
      "image/png": "[encoded data removed]",
      "text/plain": [
       "<Figure size 432x288 with 1 Axes>"
      ]
     },
     "metadata": {
      "needs_background": "light"
     },
     "output_type": "display_data"
    }
   ],
   "source": [
    "#prev_parameters = copy.deepcopy(hyperparameters)\n",
    "hyperparameters[\"training_size\"] = 1\n",
    "hyperparameters[\"num_epochs\"] = 50\n",
    "hyperparameters[\"learning_rate\"] = 1e-2\n",
    "hyperparameters[\"layers_units\"] = [X_train.T.shape[0], 100,100, 100, 1]\n",
    "#hyperparameters[\"hidden_size\"] = 100\n",
    "hyperparameters[\"batch_size\"] = 64\n",
    "\n",
    "\n",
    "neural_select = \"CNN\"\n",
    "C_model,device = training_model(X_train,X_validation,y_train,y_validation,hyperparameters, neural_select)"
   ]
  },
  {
   "cell_type": "code",
   "execution_count": null,
   "metadata": {},
   "outputs": [],
   "source": [
    "#prev_parameters = copy.deepcopy(hyperparameters)\n",
    "hyperparameters[\"training_size\"] = 1\n",
    "hyperparameters[\"num_epochs\"] = 50\n",
    "hyperparameters[\"learning_rate\"] = 1e-3\n",
    "hyperparameters[\"layers_units\"] = [X_train.T.shape[0], 1000,1000, 1000, 1]\n",
    "#hyperparameters[\"hidden_size\"] = 100\n",
    "hyperparameters[\"batch_size\"] = 64\n",
    "\n",
    "\n",
    "neural_select = \"CNN\"\n",
    "C_model,device = training_model(X_train,X_validation,y_train,y_validation,hyperparameters, neural_select)"
   ]
  },
  {
   "cell_type": "code",
   "execution_count": 133,
   "metadata": {},
   "outputs": [
    {
     "name": "stdout",
     "output_type": "stream",
     "text": [
      "-7.419698\n",
      "[-7.3388852]\n"
     ]
    }
   ],
   "source": [
    "x = random.sample(range(1,X.shape[0]),1)\n",
    "print(predict_ground_state(X[int(x[0]),:],\"C_model\"))\n",
    "print(y[int(x[0]),:])"
   ]
  },
  {
   "cell_type": "markdown",
   "metadata": {},
   "source": [
    "## QNN"
   ]
  },
  {
   "cell_type": "code",
   "execution_count": 135,
   "metadata": {},
   "outputs": [
    {
     "data": {
      "text/plain": [
       "'from torch.optim import LBFGS\\nfrom torch import Tensor\\nmodel3 = TorchConnector(qnn3, initial_weights)\\noptimizer = LBFGS(model3.parameters())\\nf_loss = nn.MSELoss(reduction=\"sum\")\\n\\n# Start training\\nmodel3.train()  # set model to training mode\\n\\n# Define objective function\\ndef closure():\\n    optimizer.zero_grad()#set_to_none=True)  # Initialize gradient\\n    loss = f_loss(model3(Tensor(X)), Tensor(y))  # Compute batch loss\\n    loss.backward()  # Backward pass\\n    print(loss.item())  # Print loss\\n    return loss\\n\\n\\n# Run optimizer\\noptimizer.step(closure)'"
      ]
     },
     "execution_count": 135,
     "metadata": {},
     "output_type": "execute_result"
    }
   ],
   "source": [
    "'''from torch.optim import LBFGS\n",
    "from torch import Tensor\n",
    "model3 = TorchConnector(qnn3, initial_weights)\n",
    "optimizer = LBFGS(model3.parameters())\n",
    "f_loss = nn.MSELoss(reduction=\"sum\")\n",
    "\n",
    "# Start training\n",
    "model3.train()  # set model to training mode\n",
    "\n",
    "# Define objective function\n",
    "def closure():\n",
    "    optimizer.zero_grad()#set_to_none=True)  # Initialize gradient\n",
    "    loss = f_loss(model3(Tensor(X)), Tensor(y))  # Compute batch loss\n",
    "    loss.backward()  # Backward pass\n",
    "    print(loss.item())  # Print loss\n",
    "    return loss\n",
    "\n",
    "\n",
    "# Run optimizer\n",
    "optimizer.step(closure)'''"
   ]
  },
  {
   "cell_type": "markdown",
   "metadata": {},
   "source": [
    "# Conculsion\n",
    "## suppost to be look like\n",
    "I want to run and compare hybrid in difference layer, but got a lot of bugs in the middle.\n",
    "but I got a double bug when I want to impliment quantum layer to the circuit\n",
    "In the further I wish this result to more usage for coulomb matrices."
   ]
  },
  {
   "cell_type": "code",
   "execution_count": null,
   "metadata": {},
   "outputs": [],
   "source": []
  },
  {
   "cell_type": "code",
   "execution_count": null,
   "metadata": {},
   "outputs": [],
   "source": [
    "import qiskit.tools.jupyter\n",
    "%qiskit_version_table"
   ]
  }
 ],
 "metadata": {
  "kernelspec": {
   "display_name": "Python 3 (ipykernel)",
   "language": "python",
   "name": "python3"
  },
  "language_info": {
   "codemirror_mode": {
    "name": "ipython",
    "version": 3
   },
   "file_extension": ".py",
   "mimetype": "text/x-python",
   "name": "python",
   "nbconvert_exporter": "python",
   "pygments_lexer": "ipython3",
   "version": "3.8.12"
  },
  "latex_envs": {
   "LaTeX_envs_menu_present": true,
   "autoclose": false,
   "autocomplete": true,
   "bibliofile": "biblio.bib",
   "cite_by": "apalike",
   "current_citInitial": 1,
   "eqLabelWithNumbers": true,
   "eqNumInitial": 1,
   "hotkeys": {
    "equation": "Ctrl-E",
    "itemize": "Ctrl-I"
   },
   "labels_anchors": false,
   "latex_user_defs": false,
   "report_style_numbering": false,
   "user_envs_cfg": false
  },
  "toc": {
   "base_numbering": 1,
   "nav_menu": {},
   "number_sections": true,
   "sideBar": true,
   "skip_h1_title": false,
   "title_cell": "Table of Contents",
   "title_sidebar": "Contents",
   "toc_cell": false,
   "toc_position": {},
   "toc_section_display": true,
   "toc_window_display": false
  }
 },
 "nbformat": 4,
 "nbformat_minor": 4
}
