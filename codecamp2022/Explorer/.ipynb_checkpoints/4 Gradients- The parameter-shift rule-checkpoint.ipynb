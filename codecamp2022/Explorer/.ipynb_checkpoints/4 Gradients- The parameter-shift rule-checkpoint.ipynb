{
 "cells": [
  {
   "cell_type": "code",
   "execution_count": 55,
   "id": "2f30a959-20ef-4444-b827-6a77bf9cdc9d",
   "metadata": {},
   "outputs": [],
   "source": [
    "import functools\n",
    "import json\n",
    "import math\n",
    "import pandas as pd\n",
    "import pennylane as qml\n",
    "import pennylane.numpy as np\n",
    "import scipy\n",
    "\n",
    "def quantum_model(n, train_params, x, model_type):\n",
    "    \"\"\"\n",
    "    Builds an in-series or parallel quantum model according to the specifications in the problem statement, returning\n",
    "    the expectation value on the first wire.\n",
    "\n",
    "    Args: \n",
    "        n (int): The total number of encoding gates. Assumed to be smaller than,\n",
    "                or equal to, the number of wires (3).\n",
    "        train_params (list(float)): A list of length n + 1, which indicates the rotation parameter characterizing\n",
    "                    the trainable circuit. If the circuit is parallel, only the first two parameters are used.\n",
    "        x (float): A real number representing the input data point.\n",
    "        model_type (str): A string that is \"series\" or \"parallel\", depending on the type of model.  \n",
    "\n",
    "    Returns: \n",
    "        (float): The expectation value of PauliZ measurements on the first wire.\n",
    "    \"\"\" \n",
    "    \n",
    "    num_wires=3\n",
    "\n",
    "    dev = qml.device('default.qubit', wires = num_wires)\n",
    "    \n",
    "    # Write any helper functions, such as subcircuits you may use later, here.\n",
    "    def trainalbe_circuit(x):\n",
    "        # trainable circuit\n",
    "        n,m = 3,2\n",
    "        circular = [tuple(range(n - m + 1, n)) + (0,)] + [tuple(range(i, i + m)) for i in range(n - m + 1)]\n",
    "        for j in sorted(circular):\n",
    "            qml.Hadamard(wires=[j[0]])\n",
    "            qml.CRX(x,wires=[j[0],j[1]])\n",
    "    \n",
    "    @qml.qnode(dev)\n",
    "    def circuit(n, train_params, x, model_type):\n",
    "        # encoding circuit\n",
    "        if model_type == \"parallel\":\n",
    "            # Put your code here #\n",
    "            trainalbe_circuit(train_params[0])\n",
    "            #encoding\n",
    "            for j in range(n):\n",
    "                qml.RX(x,wires=[j])\n",
    "            trainalbe_circuit(train_params[1])\n",
    "        elif model_type == \"series\":\n",
    "            # Put your code here #\n",
    "            for i in range(n):\n",
    "                trainalbe_circuit(train_params[i])\n",
    "                qml.RX(x,wires=[0])\n",
    "                qml.Barrier()\n",
    "            trainalbe_circuit(train_params[i+1])\n",
    "                    \n",
    "    \n",
    "        # Return an expectation value\n",
    "        return qml.expval(qml.PauliZ(wires=[0]))\n",
    "    qnode_local = qml.QNode(circuit, dev)\n",
    "    print(qml.draw(qnode_local)(n, train_params, x, model_type))  # example parameterized circuit\n",
    "    print(circuit(n, train_params, x, model_type))\n",
    "\n",
    "    # Finally, return a float, not a numpy tensor. You can do this using the .numpy() method!\n",
    "    return circuit(n, train_params, x, model_type)"
   ]
  },
  {
   "cell_type": "code",
   "execution_count": 56,
   "id": "50e67c2a-bd62-436e-a9c9-b81e0c70e800",
   "metadata": {},
   "outputs": [
    {
     "name": "stdout",
     "output_type": "stream",
     "text": [
      "0: ──H─╭●────────────────────────╭RX(0.40)──RX(1.20)──||──H─╭●────────────────────────╭RX(0.80)\n",
      "1: ────╰RX(0.40)──H─╭●───────────│────────────────────||────╰RX(0.80)──H─╭●───────────│────────\n",
      "2: ─────────────────╰RX(0.40)──H─╰●───────────────────||─────────────────╰RX(0.80)──H─╰●───────\n",
      "\n",
      "───RX(1.20)──||──H─╭●────────────────────────╭RX(1.00)──RX(1.20)──||──H─╭●───────────────────────\n",
      "─────────────||────╰RX(1.00)──H─╭●───────────│────────────────────||────╰RX(2.40)──H─╭●──────────\n",
      "─────────────||─────────────────╰RX(1.00)──H─╰●───────────────────||─────────────────╰RX(2.40)──H\n",
      "\n",
      "──╭RX(2.40)─┤  <Z>\n",
      "──│─────────┤     \n",
      "──╰●────────┤     \n",
      "0.5626170074103128\n"
     ]
    },
    {
     "data": {
      "text/plain": [
       "tensor(0.56261701, requires_grad=True)"
      ]
     },
     "execution_count": 56,
     "metadata": {},
     "output_type": "execute_result"
    }
   ],
   "source": [
    "quantum_model(3,[0.4,0.8,1.0,2.4,2.0],1.2,\"series\")"
   ]
  },
  {
   "cell_type": "code",
   "execution_count": 57,
   "id": "820cdf3f-cfc3-42cf-b66c-d58d7e2ede40",
   "metadata": {},
   "outputs": [
    {
     "name": "stdout",
     "output_type": "stream",
     "text": [
      "Running test case 0 with input '[2,[0.4,0.8,1.0],1.2,\"parallel\"]'...\n",
      "0: ──H─╭●────────────────────────╭RX(0.40)──RX(1.20)──H─╭●────────────────────────╭RX(0.80)─┤  <Z>\n",
      "1: ────╰RX(0.40)──H─╭●───────────│──────────RX(1.20)────╰RX(0.80)──H─╭●───────────│─────────┤     \n",
      "2: ─────────────────╰RX(0.40)──H─╰●──────────────────────────────────╰RX(0.80)──H─╰●────────┤     \n",
      "0.9778567324200627\n",
      "Correct!\n",
      "Running test case 1 with input '[3,[0.6,0.7,0.8,1.2],1.3,\"series\"]'...\n",
      "0: ──H─╭●────────────────────────╭RX(0.60)──RX(1.30)──||──H─╭●────────────────────────╭RX(0.70)\n",
      "1: ────╰RX(0.60)──H─╭●───────────│────────────────────||────╰RX(0.70)──H─╭●───────────│────────\n",
      "2: ─────────────────╰RX(0.60)──H─╰●───────────────────||─────────────────╰RX(0.70)──H─╰●───────\n",
      "\n",
      "───RX(1.30)──||──H─╭●────────────────────────╭RX(0.80)──RX(1.30)──||──H─╭●───────────────────────\n",
      "─────────────||────╰RX(0.80)──H─╭●───────────│────────────────────||────╰RX(1.20)──H─╭●──────────\n",
      "─────────────||─────────────────╰RX(0.80)──H─╰●───────────────────||─────────────────╰RX(1.20)──H\n",
      "\n",
      "──╭RX(1.20)─┤  <Z>\n",
      "──│─────────┤     \n",
      "──╰●────────┤     \n",
      "0.37048658401505\n",
      "Correct!\n"
     ]
    }
   ],
   "source": [
    "# These functions are responsible for testing the solution.\n",
    "def run(test_case_input: str) -> str:\n",
    "\n",
    "    ins = json.loads(test_case_input)\n",
    "    output = quantum_model(*ins)\n",
    "\n",
    "    return str(output)\n",
    "\n",
    "def check(solution_output: str, expected_output: str) -> None:\n",
    "    \"\"\"\n",
    "    Compare solution with expected.\n",
    "\n",
    "    Args:\n",
    "            solution_output: The output from an evaluated solution. Will be\n",
    "            the same type as returned.\n",
    "            expected_output: The correct result for the test case.\n",
    "\n",
    "    Raises: \n",
    "            ``AssertionError`` if the solution output is incorrect in any way.\n",
    "    \"\"\"\n",
    "\n",
    "    solution_output = json.loads(solution_output)\n",
    "    expected_output = json.loads(expected_output)\n",
    "    assert np.allclose(\n",
    "        solution_output, expected_output, rtol=1e-2\n",
    "    ), \"Your circuit doesn't look quite right.\"\n",
    "\n",
    "\n",
    "test_cases = [['[2,[0.4,0.8,1.0],1.2,\"parallel\"]', '0.977856732420062'], ['[3,[0.6,0.7,0.8,1.2],1.3,\"series\"]', '0.37048658401504975']]\n",
    "\n",
    "for i, (input_, expected_output) in enumerate(test_cases):\n",
    "    print(f\"Running test case {i} with input '{input_}'...\")\n",
    "\n",
    "    try:\n",
    "        output = run(input_)\n",
    "\n",
    "    except Exception as exc:\n",
    "        print(f\"Runtime Error. {exc}\")\n",
    "\n",
    "    else:\n",
    "        if message := check(output, expected_output):\n",
    "            print(f\"Wrong Answer. Have: '{output}'. Want: '{expected_output}'.\")\n",
    "\n",
    "        else:\n",
    "            print(\"Correct!\")"
   ]
  },
  {
   "cell_type": "code",
   "execution_count": null,
   "id": "9013dd88-926f-415e-86d2-1c74514d054a",
   "metadata": {},
   "outputs": [],
   "source": []
  }
 ],
 "metadata": {
  "kernelspec": {
   "display_name": "PennyLane",
   "language": "python",
   "name": "pennylane"
  },
  "language_info": {
   "codemirror_mode": {
    "name": "ipython",
    "version": 3
   },
   "file_extension": ".py",
   "mimetype": "text/x-python",
   "name": "python",
   "nbconvert_exporter": "python",
   "pygments_lexer": "ipython3",
   "version": "3.9.13"
  }
 },
 "nbformat": 4,
 "nbformat_minor": 5
}
