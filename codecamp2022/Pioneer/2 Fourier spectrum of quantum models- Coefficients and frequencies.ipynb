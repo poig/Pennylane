{
 "cells": [
  {
   "cell_type": "code",
   "execution_count": 127,
   "id": "4905ad8d-295e-4fa5-a0f0-478791e6cabc",
   "metadata": {},
   "outputs": [],
   "source": [
    "import functools\n",
    "import json\n",
    "import math\n",
    "import pandas as pd\n",
    "import pennylane as qml\n",
    "import pennylane.numpy as np\n",
    "import scipy\n",
    "\n",
    "def fourier_decomp(layers_params):\n",
    "    \"\"\"\n",
    "    Returns the frequencies and coefficient of our quantum model, specified by layers_params\n",
    "\n",
    "    Args:\n",
    "    layers_params: list(list(list(float))). Specifies the number of basic entangling layers and their\n",
    "    parameters as explained in the statement of the problem.\n",
    "\n",
    "    Returns: list([float,float,float]). A list three-element list. The first element of each list is the frequency. The second\n",
    "    element is the real part of the coefficient associated with that frequency in the Fourier decomposition. The third element\n",
    "    is the imaginary part of such coefficient.\n",
    "    \"\"\"\n",
    "\n",
    "    dev = qml.device(\"default.qubit\", wires=4)\n",
    "\n",
    "    @qml.qnode(dev)\n",
    "    def circuit(layers_params, x):\n",
    "        \"\"\"\n",
    "        This function is the quantum circuit made of alternating entangling layers and rotations representing our quantum model\n",
    "        \"\"\"\n",
    "        # Put your code here #\n",
    "        def trainalbe_circuit(x):\n",
    "        # trainable circuit\n",
    "            for i in range(len(x)):\n",
    "                qml.RX(x[i],wires=[i])\n",
    "            n,m = 4,2\n",
    "            circular = [tuple(range(n - m + 1, n)) + (0,)] + [tuple(range(i, i + m)) for i in range(n - m + 1)]\n",
    "            for j in sorted(circular):\n",
    "                qml.CNOT(wires=[j[0],j[1]])\n",
    "        \n",
    "        trainalbe_circuit(layers_params[0][0]) # qml.BasicEntanglerLayers()\n",
    "        trainalbe_circuit(layers_params[0][1])\n",
    "        #encoding\n",
    "        for j in range(4):\n",
    "            qml.RX(x,wires=[j])\n",
    "        trainalbe_circuit(layers_params[1][0])\n",
    "        # Return a single expectation value!\n",
    "        return qml.expval(qml.PauliZ(0))\n",
    "    def fourier_coefficients(f, K):\n",
    "        \"\"\"\n",
    "        Computes the first 2*K+1 Fourier coefficients of a 2*pi periodic function.\n",
    "        \"\"\"\n",
    "        n_coeffs = 2 * K + 1\n",
    "        t = -np.linspace(0, 2*np.pi, n_coeffs, endpoint=False)\n",
    "        #t = np.linspace(-4, 4, n_coeffs, endpoint=True)#*np.pi\n",
    "        print(n_coeffs,t)\n",
    "        y = np.fft.rfft(f(t)) / t.size\n",
    "        return y\n",
    "\n",
    "    #qnode_local = qml.QNode(circuit, dev)\n",
    "    #print(qml.draw(qnode_local)(layers_params,0.1))  # example parameterized circuit\n",
    "    def f(x):\n",
    "        return np.array([circuit(layers_params, x_) for x_ in x])\n",
    "    coeffs = fourier_coefficients(f, 4)#\n",
    "    coeffs = np.array(coeffs)\n",
    "    coeffs_real = np.real(coeffs)\n",
    "    coeffs_imag = np.imag(coeffs)\n",
    "    #print(qml.fourier.coefficients(functools.partial(circuit,layers_params), 1, 4))\n",
    "\n",
    "    # Use the Fourier module to obtain the coefficients and frequencies. Then return the required list of lists.\n",
    "    return coeffs#,coeffs_real,coeffs_imag"
   ]
  },
  {
   "cell_type": "code",
   "execution_count": 128,
   "id": "04d61a4a-a36b-4bf6-a588-edfd1ec587cb",
   "metadata": {
    "tags": []
   },
   "outputs": [
    {
     "name": "stdout",
     "output_type": "stream",
     "text": [
      "9 [-0.         -0.6981317  -1.3962634  -2.0943951  -2.7925268  -3.4906585\n",
      " -4.1887902  -4.88692191 -5.58505361]\n"
     ]
    },
    {
     "data": {
      "text/plain": [
       "tensor([ 1.85037171e-17+0.00000000e+00j,  1.17629926e-01-1.36194431e-01j,\n",
       "        -1.60246891e-17-2.88033361e-17j, -3.39564726e-02+1.02084105e-02j,\n",
       "         1.60246891e-17+8.22189663e-17j], requires_grad=True)"
      ]
     },
     "execution_count": 128,
     "metadata": {},
     "output_type": "execute_result"
    }
   ],
   "source": [
    "fourier_decomp([[[2,2,2,2],[1,2,1,1]],[[3,4,5,6]]])"
   ]
  },
  {
   "cell_type": "code",
   "execution_count": 129,
   "id": "b80557c2-ba12-4911-9b9b-01385e928257",
   "metadata": {},
   "outputs": [
    {
     "data": {
      "text/plain": [
       "9"
      ]
     },
     "execution_count": 129,
     "metadata": {},
     "output_type": "execute_result"
    }
   ],
   "source": [
    "len([[-4.0, -2.4671622769447922e-17, -1.2335811384723961e-17], [-3.0, -0.03395647263976357, 0.010208410500915437], [-2.0, 2.8360500437920326e-17, 1.850371707708594e-17], [-1.0, 0.11762992558035439, -0.13619443127813127], [0.0, 8.018277400070575e-17, 0.0], [1.0, 0.11762992558035439, 0.13619443127813124], [2.0, 3.700743415417188e-17, -1.850371707708594e-17], [3.0, -0.03395647263976357, -0.010208410500915437],[4.0, -3.688877668472405e-18, 1.850371707708594e-17]])"
   ]
  },
  {
   "cell_type": "code",
   "execution_count": null,
   "id": "d6b3b40b-a6f3-4f93-a00e-721cebad344f",
   "metadata": {},
   "outputs": [],
   "source": [
    "# These functions are responsible for testing the solution.\n",
    "\n",
    "def run(test_case_input: str) -> str:\n",
    "\n",
    "    ins = json.loads(test_case_input)\n",
    "    output = fourier_decomp(ins)\n",
    "\n",
    "    return str(output)\n",
    "\n",
    "def check(solution_output: str, expected_output: str) -> None:\n",
    "    \"\"\"\n",
    "    Compare solution with expected.\n",
    "\n",
    "    Args:\n",
    "            solution_output: The output from an evaluated solution. Will be\n",
    "            the same type as returned.\n",
    "            expected_output: The correct result for the test case.\n",
    "\n",
    "    Raises:\n",
    "            ``AssertionError`` if the solution output is incorrect in any way.\n",
    "    \"\"\"\n",
    "\n",
    "    solution_output = json.loads(solution_output)\n",
    "    expected_output = json.loads(expected_output)\n",
    "    assert np.allclose(\n",
    "        solution_output, expected_output, rtol=1e-2\n",
    "    ), \"Your calculated Fourier spectrum isn't quite right.\"\n",
    "\n",
    "\n",
    "test_cases = [['[[[2,2,2,2],[1,2,1,1]],[[3,4,5,6]]]', '[[-4.0, -2.4671622769447922e-17, -1.2335811384723961e-17], [-3.0, -0.03395647263976357, 0.010208410500915437], [-2.0, 2.8360500437920326e-17, 1.850371707708594e-17], [-1.0, 0.11762992558035439, -0.13619443127813127], [0.0, 8.018277400070575e-17, 0.0], [1.0, 0.11762992558035439, 0.13619443127813124], [2.0, 3.700743415417188e-17, -1.850371707708594e-17], [3.0, -0.03395647263976357, -0.010208410500915437],[4.0, -3.688877668472405e-18, 1.850371707708594e-17]]'], ['[[[2,2,2,2]],[[3,4,5,6]]]', '[[-4.0, 1.2335811384723961e-17, 3.700743415417188e-17],  [-3.0, 0.022482345076620468, -0.07855141721016852], [-2.0, -1.2335811384723961e-17, -6.536793459209221e-17], [-1.0, -0.13243693333822854, 0.17097830099559677], [0.0, -2.4671622769447922e-17, 0.0], [1.0, -0.13243693333822854, -0.17097830099559677], [2.0, -2.4671622769447922e-17, 7.401486830834377e-17], [3.0, 0.022482345076620468, 0.07855141721016852], [4.0, -1.2335811384723961e-17, -3.331855648569948e-17]]']]\n",
    "\n",
    "for i, (input_, expected_output) in enumerate(test_cases):\n",
    "    print(f\"Running test case {i} with input '{input_}'...\")\n",
    "\n",
    "    try:\n",
    "        output = run(input_)\n",
    "\n",
    "    except Exception as exc:\n",
    "        print(f\"Runtime Error. {exc}\")\n",
    "\n",
    "    else:\n",
    "        if message := check(output, expected_output):\n",
    "            print(f\"Wrong Answer. Have: '{output}'. Want: '{expected_output}'.\")\n",
    "\n",
    "        else:\n",
    "            print(\"Correct!\")"
   ]
  }
 ],
 "metadata": {
  "kernelspec": {
   "display_name": "PennyLane",
   "language": "python",
   "name": "pennylane"
  },
  "language_info": {
   "codemirror_mode": {
    "name": "ipython",
    "version": 3
   },
   "file_extension": ".py",
   "mimetype": "text/x-python",
   "name": "python",
   "nbconvert_exporter": "python",
   "pygments_lexer": "ipython3",
   "version": "3.9.13"
  }
 },
 "nbformat": 4,
 "nbformat_minor": 5
}
