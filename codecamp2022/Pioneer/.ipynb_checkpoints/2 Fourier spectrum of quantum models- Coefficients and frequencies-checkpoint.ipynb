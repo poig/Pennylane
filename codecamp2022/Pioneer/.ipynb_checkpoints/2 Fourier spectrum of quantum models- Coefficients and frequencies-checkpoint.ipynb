{
 "cells": [
  {
   "cell_type": "code",
   "execution_count": 1,
   "id": "4905ad8d-295e-4fa5-a0f0-478791e6cabc",
   "metadata": {},
   "outputs": [],
   "source": [
    "import functools\n",
    "import json\n",
    "import math\n",
    "import pandas as pd\n",
    "import pennylane as qml\n",
    "import pennylane.numpy as np\n",
    "import scipy\n",
    "\n",
    "def fourier_decomp(layers_params):\n",
    "    \"\"\"\n",
    "    Returns the frequencies and coefficient of our quantum model, specified by layers_params\n",
    "\n",
    "    Args:\n",
    "    layers_params: list(list(list(float))). Specifies the number of basic entangling layers and their\n",
    "    parameters as explained in the statement of the problem.\n",
    "\n",
    "    Returns: list([float,float,float]). A list three-element list. The first element of each list is the frequency. The second\n",
    "    element is the real part of the coefficient associated with that frequency in the Fourier decomposition. The third element\n",
    "    is the imaginary part of such coefficient.\n",
    "    \"\"\"\n",
    "\n",
    "    dev = qml.device(\"default.qubit\", wires=4)\n",
    "\n",
    "    @qml.qnode(dev)\n",
    "    def circuit(x, layer_params=layers_params):\n",
    "        \"\"\"\n",
    "        This function is the quantum circuit made of alternating entangling layers and rotations representing our quantum model\n",
    "        \"\"\"\n",
    "        # Put your code here #\n",
    "        def trainalbe_circuit(x):\n",
    "        # trainable circuit\n",
    "            for i in range(len(x)):\n",
    "                qml.RX(x[i],wires=[i])\n",
    "            n,m = 4,2\n",
    "            circular = [tuple(range(n - m + 1, n)) + (0,)] + [tuple(range(i, i + m)) for i in range(n - m + 1)]\n",
    "            for j in sorted(circular):\n",
    "                qml.CNOT(wires=[j[0],j[1]])\n",
    "        for i in layers_params[0]: # qml.BasicEntanglerLayers()\n",
    "            trainalbe_circuit(i)\n",
    "        #encoding\n",
    "        for j in range(4):\n",
    "            qml.RX(x,wires=[j],id=\"x\")\n",
    "            \n",
    "        for i in layers_params[1]:\n",
    "            trainalbe_circuit(i)\n",
    "        # Return a single expectation value!\n",
    "        return qml.expval(qml.PauliZ(0))\n",
    "\n",
    "    qnode_local = qml.QNode(circuit, dev)\n",
    "    print(qml.draw(qnode_local)(0.1))  # example parameterized circuit\n",
    "    \n",
    "    x = np.random.random(1)\n",
    "    frequencies = qml.fourier.circuit_spectrum(circuit, [\"x\"])(x)['x']\n",
    "    degree = int((len(frequencies)-1)/2)\n",
    "    # do not set `lowpass_filter`, strange!\n",
    "    coeffs_unorderd = qml.fourier.coefficients(circuit, n_inputs=1, degree=degree)\n",
    "    coeffs = np.zeros_like(coeffs_unorderd)\n",
    "    coeffs[:degree] = coeffs_unorderd[-degree:]\n",
    "    coeffs[degree:] = coeffs_unorderd[:degree+1]\n",
    "    return [[freq, real.item(), imag.item()] for freq, real, imag in zip(frequencies, np.real(coeffs), np.imag(coeffs))]\n",
    "\n",
    "    # Use the Fourier module to obtain the coefficients and frequencies. Then return the required list of lists.\n",
    "    #return coeffs#,coeffs_real,coeffs_imag"
   ]
  },
  {
   "cell_type": "code",
   "execution_count": 2,
   "id": "71df86e7-797c-4d8c-a455-68672cf4912f",
   "metadata": {},
   "outputs": [
    {
     "name": "stdout",
     "output_type": "stream",
     "text": [
      "0: ──RX(2.00)─╭●───────╭X──RX(1.00)─╭●───────╭X──RX(0.10)──RX(3.00)─╭●───────╭X─┤  <Z>\n",
      "1: ──RX(2.00)─╰X─╭●────│───RX(2.00)─╰X─╭●────│───RX(0.10)──RX(4.00)─╰X─╭●────│──┤     \n",
      "2: ──RX(2.00)────╰X─╭●─│───RX(1.00)────╰X─╭●─│───RX(0.10)──RX(5.00)────╰X─╭●─│──┤     \n",
      "3: ──RX(2.00)───────╰X─╰●──RX(1.00)───────╰X─╰●──RX(0.10)──RX(6.00)───────╰X─╰●─┤     \n"
     ]
    },
    {
     "data": {
      "text/plain": [
       "[[-4.0, 6.167905692361981e-17, 6.167905692361981e-17],\n",
       " [-3.0, -0.03395647263976355, 0.010208410500915468],\n",
       " [-2.0, -4.6421381810329376e-17, -4.1317133731492965e-18],\n",
       " [-1.0, 0.11762992558035412, -0.13619443127813097],\n",
       " [0, 7.401486830834377e-17, 0.0],\n",
       " [1.0, 0.1176299255803541, 0.13619443127813097],\n",
       " [2.0, -4.9343245538895844e-17, 0.0],\n",
       " [3.0, -0.03395647263976355, -0.010208410500915468],\n",
       " [4.0, 7.10930045797773e-17, -5.75473435504705e-17]]"
      ]
     },
     "execution_count": 2,
     "metadata": {},
     "output_type": "execute_result"
    }
   ],
   "source": [
    "# output is different if direct look\n",
    "# [[-4.0, -2.4671622769447922e-17, -1.2335811384723961e-17], [-3.0, -0.03395647263976357, 0.010208410500915437], [-2.0, 2.8360500437920326e-17, 1.850371707708594e-17], [-1.0, 0.11762992558035439, -0.13619443127813127], [0.0, 8.018277400070575e-17, 0.0], [1.0, 0.11762992558035439, 0.13619443127813124], [2.0, 3.700743415417188e-17, -1.850371707708594e-17], [3.0, -0.03395647263976357, -0.010208410500915437],[4.0, -3.688877668472405e-18, 1.850371707708594e-17]]\n",
    "fourier_decomp([[[2,2,2,2],[1,2,1,1]],[[3,4,5,6]]])#[[[2,2,2,2]],[[3,4,5,6]]])"
   ]
  },
  {
   "cell_type": "code",
   "execution_count": 3,
   "id": "d6b3b40b-a6f3-4f93-a00e-721cebad344f",
   "metadata": {},
   "outputs": [
    {
     "name": "stdout",
     "output_type": "stream",
     "text": [
      "Running test case 0 with input '[[[2,2,2,2],[1,2,1,1]],[[3,4,5,6]]]'...\n",
      "0: ──RX(2.00)─╭●───────╭X──RX(1.00)─╭●───────╭X──RX(0.10)──RX(3.00)─╭●───────╭X─┤  <Z>\n",
      "1: ──RX(2.00)─╰X─╭●────│───RX(2.00)─╰X─╭●────│───RX(0.10)──RX(4.00)─╰X─╭●────│──┤     \n",
      "2: ──RX(2.00)────╰X─╭●─│───RX(1.00)────╰X─╭●─│───RX(0.10)──RX(5.00)────╰X─╭●─│──┤     \n",
      "3: ──RX(2.00)───────╰X─╰●──RX(1.00)───────╰X─╰●──RX(0.10)──RX(6.00)───────╰X─╰●─┤     \n",
      "Correct!\n",
      "Running test case 1 with input '[[[2,2,2,2]],[[3,4,5,6]]]'...\n",
      "0: ──RX(2.00)─╭●───────╭X──RX(0.10)──RX(3.00)─╭●───────╭X─┤  <Z>\n",
      "1: ──RX(2.00)─╰X─╭●────│───RX(0.10)──RX(4.00)─╰X─╭●────│──┤     \n",
      "2: ──RX(2.00)────╰X─╭●─│───RX(0.10)──RX(5.00)────╰X─╭●─│──┤     \n",
      "3: ──RX(2.00)───────╰X─╰●──RX(0.10)──RX(6.00)───────╰X─╰●─┤     \n",
      "Correct!\n"
     ]
    }
   ],
   "source": [
    "# These functions are responsible for testing the solution.\n",
    "\n",
    "def run(test_case_input: str) -> str:\n",
    "\n",
    "    ins = json.loads(test_case_input)\n",
    "    output = fourier_decomp(ins)\n",
    "\n",
    "    return str(output)\n",
    "\n",
    "def check(solution_output: str, expected_output: str) -> None:\n",
    "    \"\"\"\n",
    "    Compare solution with expected.\n",
    "\n",
    "    Args:\n",
    "            solution_output: The output from an evaluated solution. Will be\n",
    "            the same type as returned.\n",
    "            expected_output: The correct result for the test case.\n",
    "\n",
    "    Raises:\n",
    "            ``AssertionError`` if the solution output is incorrect in any way.\n",
    "    \"\"\"\n",
    "\n",
    "    solution_output = json.loads(solution_output)\n",
    "    expected_output = json.loads(expected_output)\n",
    "    assert np.allclose(\n",
    "        solution_output, expected_output, rtol=1e-2\n",
    "    ), \"Your calculated Fourier spectrum isn't quite right.\"\n",
    "\n",
    "\n",
    "test_cases = [['[[[2,2,2,2],[1,2,1,1]],[[3,4,5,6]]]', '[[-4.0, -2.4671622769447922e-17, -1.2335811384723961e-17], [-3.0, -0.03395647263976357, 0.010208410500915437], [-2.0, 2.8360500437920326e-17, 1.850371707708594e-17], [-1.0, 0.11762992558035439, -0.13619443127813127], [0.0, 8.018277400070575e-17, 0.0], [1.0, 0.11762992558035439, 0.13619443127813124], [2.0, 3.700743415417188e-17, -1.850371707708594e-17], [3.0, -0.03395647263976357, -0.010208410500915437],[4.0, -3.688877668472405e-18, 1.850371707708594e-17]]'], ['[[[2,2,2,2]],[[3,4,5,6]]]', '[[-4.0, 1.2335811384723961e-17, 3.700743415417188e-17],  [-3.0, 0.022482345076620468, -0.07855141721016852], [-2.0, -1.2335811384723961e-17, -6.536793459209221e-17], [-1.0, -0.13243693333822854, 0.17097830099559677], [0.0, -2.4671622769447922e-17, 0.0], [1.0, -0.13243693333822854, -0.17097830099559677], [2.0, -2.4671622769447922e-17, 7.401486830834377e-17], [3.0, 0.022482345076620468, 0.07855141721016852], [4.0, -1.2335811384723961e-17, -3.331855648569948e-17]]']]\n",
    "\n",
    "for i, (input_, expected_output) in enumerate(test_cases):\n",
    "    print(f\"Running test case {i} with input '{input_}'...\")\n",
    "\n",
    "    try:\n",
    "        output = run(input_)\n",
    "\n",
    "    except Exception as exc:\n",
    "        print(f\"Runtime Error. {exc}\")\n",
    "\n",
    "    else:\n",
    "        if message := check(output, expected_output):\n",
    "            print(f\"Wrong Answer. Have: '{output}'. Want: '{expected_output}'.\")\n",
    "\n",
    "        else:\n",
    "            print(\"Correct!\")"
   ]
  }
 ],
 "metadata": {
  "kernelspec": {
   "display_name": "PennyLane",
   "language": "python",
   "name": "pennylane"
  },
  "language_info": {
   "codemirror_mode": {
    "name": "ipython",
    "version": 3
   },
   "file_extension": ".py",
   "mimetype": "text/x-python",
   "name": "python",
   "nbconvert_exporter": "python",
   "pygments_lexer": "ipython3",
   "version": "3.9.13"
  }
 },
 "nbformat": 4,
 "nbformat_minor": 5
}
