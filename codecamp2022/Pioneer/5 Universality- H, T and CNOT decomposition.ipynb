{
 "cells": [
  {
   "cell_type": "code",
   "execution_count": 1,
   "id": "3724a9e2-4143-4c79-be2c-59fc774ee894",
   "metadata": {
    "tags": []
   },
   "outputs": [],
   "source": [
    "import functools\n",
    "import json\n",
    "import math\n",
    "import pandas as pd\n",
    "import pennylane as qml\n",
    "import pennylane.numpy as np\n",
    "import scipy\n",
    "\n",
    "def U():\n",
    "    \"\"\"\n",
    "    This quantum function will simply contain H, T and CNOT gates.\n",
    "    It will not return any value.\n",
    "    \"\"\"\n",
    "\n",
    "    # Put your solution here #\n",
    "    #hadamard,cnot,t\n",
    "    #https://quantumcomputing.stackexchange.com/questions/8274/how-to-implement-the-controlled-square-root-of-not-gate-on-the-ibm-q-composer\n",
    "    qml.Hadamard(wires=1)\n",
    "    qml.T(wires=0)\n",
    "    qml.T(wires=1)\n",
    "    qml.CNOT(wires=[0, 1])\n",
    "    qml.T(wires=1)\n",
    "    qml.T(wires=1)\n",
    "    qml.T(wires=1)\n",
    "    qml.CNOT(wires=[0, 1])\n",
    "    qml.Hadamard(wires=1)\n",
    "\n",
    "    qml.CNOT(wires=[1, 0])\n",
    "\n",
    "dev = qml.device(\"default.qubit\", wires=2)\n",
    "\n",
    "@qml.qnode(dev)\n",
    "def circuit():\n",
    "    \"\"\"\n",
    "    Main circuit given in the statement, here the operators you have defined in U will be embedded.\n",
    "    \"\"\"\n",
    "\n",
    "    qml.CNOT(wires=[0, 1])\n",
    "\n",
    "    qml.Hadamard(wires=0)\n",
    "    qml.Hadamard(wires=1)\n",
    "\n",
    "    qml.Barrier()\n",
    "    U()\n",
    "    qml.Barrier()\n",
    "\n",
    "    qml.CNOT(wires=[1, 0])\n",
    "\n",
    "    qml.Barrier()\n",
    "    U()\n",
    "    qml.Barrier()\n",
    "\n",
    "    qml.Hadamard(wires=0)\n",
    "    qml.Hadamard(wires=1)\n",
    "\n",
    "    return qml.state()"
   ]
  },
  {
   "cell_type": "code",
   "execution_count": 2,
   "id": "ed9afaf0-0182-4d08-bd30-cbfa89b66057",
   "metadata": {},
   "outputs": [
    {
     "data": {
      "text/latex": [
       "$$\n",
       "\n",
       "\\begin{bmatrix}\n",
       "1 & 0 & 0 & 0  \\\\\n",
       " 0 & 0 & 1 & 0  \\\\\n",
       " 0 & 1 & 0 & 0  \\\\\n",
       " 0 & 0 & 0 & 1  \\\\\n",
       " \\end{bmatrix}\n",
       "$$"
      ],
      "text/plain": [
       "<IPython.core.display.Latex object>"
      ]
     },
     "execution_count": 2,
     "metadata": {},
     "output_type": "execute_result"
    }
   ],
   "source": [
    "from qiskit .visualization import array_to_latex\n",
    "array_to_latex(qml.matrix(circuit)().real)"
   ]
  },
  {
   "cell_type": "code",
   "execution_count": 3,
   "id": "0fdf084b-b2c3-4ffe-a0d6-0bd13bc7ea61",
   "metadata": {},
   "outputs": [
    {
     "name": "stdout",
     "output_type": "stream",
     "text": [
      "0: ─╭●──H──||──T────╭●──────────╭●────╭X──||─╭X──||──T────╭●──────────╭●────╭X──||──H─┤  State\n",
      "1: ─╰X──H──||──H──T─╰X──T──T──T─╰X──H─╰●──||─╰●──||──H──T─╰X──T──T──T─╰X──H─╰●──||──H─┤  State\n"
     ]
    },
    {
     "data": {
      "text/latex": [
       "$$\n",
       "\n",
       "\\begin{bmatrix}\n",
       "1 & 0 & 0 & 0  \\\\\n",
       " 0 & 0 & 1 & 0  \\\\\n",
       " 0 & 1 & 0 & 0  \\\\\n",
       " 0 & 0 & 0 & 1  \\\\\n",
       " \\end{bmatrix}\n",
       "$$"
      ],
      "text/plain": [
       "<IPython.core.display.Latex object>"
      ]
     },
     "execution_count": 3,
     "metadata": {},
     "output_type": "execute_result"
    }
   ],
   "source": [
    "qnode_local = qml.QNode(circuit, dev)\n",
    "print(qml.draw(qnode_local)())  # example parameterized circuit\n",
    "array_to_latex(qml.matrix(qml.SWAP)(wires=[0, 1]))"
   ]
  },
  {
   "cell_type": "code",
   "execution_count": 4,
   "id": "aad24ef8-3552-4b09-b5c5-1e38d90d0795",
   "metadata": {},
   "outputs": [
    {
     "name": "stdout",
     "output_type": "stream",
     "text": [
      "Running test case 0 with input 'No input'...\n",
      "Correct!\n"
     ]
    }
   ],
   "source": [
    "# These functions are responsible for testing the solution.\n",
    "\n",
    "def run(input: str) -> str:\n",
    "    matrix = qml.matrix(circuit)().real\n",
    "\n",
    "    with qml.tape.QuantumTape() as tape:\n",
    "        U()\n",
    "\n",
    "    names = [op.name for op in tape.operations]\n",
    "    return json.dumps({\"matrix\": matrix.tolist(), \"gates\": names})\n",
    "\n",
    "def check(user_output: str, expected_output: str) -> str:\n",
    "\n",
    "    parsed_output = json.loads(user_output)\n",
    "    matrix_user = np.array(parsed_output[\"matrix\"])\n",
    "    gates = parsed_output[\"gates\"]\n",
    "\n",
    "    assert np.allclose(matrix_user, qml.matrix(qml.SWAP)(wires=[0, 1]))\n",
    "    assert (\n",
    "        len(set(gates)) == 3\n",
    "        and \"Hadamard\" in gates\n",
    "        and \"CNOT\" in gates\n",
    "        and \"T\" in gates\n",
    "    )\n",
    "\n",
    "\n",
    "test_cases = [['No input', 'No output']]\n",
    "\n",
    "for i, (input_, expected_output) in enumerate(test_cases):\n",
    "    print(f\"Running test case {i} with input '{input_}'...\")\n",
    "\n",
    "    try:\n",
    "        output = run(input_)\n",
    "\n",
    "    except Exception as exc:\n",
    "        print(f\"Runtime Error. {exc}\")\n",
    "\n",
    "    else:\n",
    "        if message := check(output, expected_output):\n",
    "            print(f\"Wrong Answer. Have: '{output}'. Want: '{expected_output}'.\")\n",
    "\n",
    "        else:\n",
    "            print(\"Correct!\")"
   ]
  }
 ],
 "metadata": {
  "kernelspec": {
   "display_name": "PennyLane",
   "language": "python",
   "name": "pennylane"
  },
  "language_info": {
   "codemirror_mode": {
    "name": "ipython",
    "version": 3
   },
   "file_extension": ".py",
   "mimetype": "text/x-python",
   "name": "python",
   "nbconvert_exporter": "python",
   "pygments_lexer": "ipython3",
   "version": "3.9.13"
  }
 },
 "nbformat": 4,
 "nbformat_minor": 5
}
