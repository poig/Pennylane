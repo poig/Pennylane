{
 "cells": [
  {
   "cell_type": "code",
   "execution_count": 1,
   "id": "017046f9-6b53-4728-b380-bb2266e30b11",
   "metadata": {},
   "outputs": [],
   "source": [
    "import functools\n",
    "import json\n",
    "import math\n",
    "import pandas as pd\n",
    "import pennylane as qml\n",
    "import pennylane.numpy as np\n",
    "import scipy\n",
    "\n",
    "def fourier_squared_distance(list_of_coeffs, param_list):\n",
    "    \"\"\"\n",
    "    Returns the squared l2-distance in Fourier space between a function\n",
    "    characterized by its Fourier coefficients and the output of the\n",
    "    quantum model\n",
    "\n",
    "    Args:\n",
    "        list_of coeffs (list(float)): A list of seven coefficients\n",
    "                                      corresponding to the Fourier\n",
    "                                      coefficients of the function we\n",
    "                                      want to approximate\n",
    "        param_list (list(float)): A list of six parameters characterizing\n",
    "                                  the angles in the trainable circuit.\n",
    "\n",
    "    Returns: (float): Squared l2-distance between the given function\n",
    "                      and the output of the quantum model\n",
    "    \"\"\"\n",
    "\n",
    "    dev = qml.device(\"default.qubit\", wires=3)\n",
    "\n",
    "    # Feel free to define any helper functions, such as subcircuits, here.\n",
    "    def trainalbe_circuit(x):\n",
    "    # trainable circuit\n",
    "        for i in range(len(x)):\n",
    "            qml.RX(x[i],wires=[i])\n",
    "        n,m = 3,2\n",
    "        circular = [tuple(range(n - m + 1, n)) + (0,)] + [tuple(range(i, i + m)) for i in range(n - m + 1)]\n",
    "        for j in sorted(circular):\n",
    "            qml.CNOT(wires=[j[0],j[1]])\n",
    "\n",
    "    @qml.qnode(dev)\n",
    "    def circuit(x,param_list):\n",
    "        \"\"\"This circuit returns the PauliZ expectation of\n",
    "        the quantum model in the statement\"\"\"\n",
    "        # Put your code here \n",
    "        trainalbe_circuit(param_list[:3]) # qml.BasicEntanglerLayers()\n",
    "        #encoding\n",
    "        for j in range(3):\n",
    "            qml.RX(x,wires=[j], id=\"x\")\n",
    "        trainalbe_circuit(param_list[3:])\n",
    "        return qml.expval(qml.PauliZ(0)) # qml.BasicEntanglerLayers()\n",
    "\n",
    "    # Write a function that calculates the squared l2-distance here\n",
    "    circ = functools.partial(circuit,param_list=param_list)\n",
    "    coeffs = qml.fourier.coefficients(circ, 1, 3)\n",
    "    l2_list = []\n",
    "    for w in range(len(list_of_coeffs)):\n",
    "        l2_list.append(np.abs(list_of_coeffs[w]*np.exp(1j*list_of_coeffs[w])-coeffs[w]*(np.exp(1j*list_of_coeffs[w])))**2)\n",
    "\n",
    "    # Return your final answer here\n",
    "    return np.sum(l2_list)"
   ]
  },
  {
   "cell_type": "code",
   "execution_count": 2,
   "id": "c4967c04-98c6-4a52-9a87-f793743e1853",
   "metadata": {},
   "outputs": [
    {
     "data": {
      "text/plain": [
       "0.003676608593303433"
      ]
     },
     "execution_count": 2,
     "metadata": {},
     "output_type": "execute_result"
    }
   ],
   "source": [
    "fourier_squared_distance([-1.12422548e-01,  0.0, 9.47909940e-02, 0.0, 0.0, 9.47909940e-02, 0.0],[2,2,2,3,4,5])\n",
    "    #[-2.51161988e-01, 0.0, 1.22546112e-01, 0.0, 0.0,  1.22546112e-01, 0.0],[1.1,0.3,0.4,0.6,0.8,0.9])"
   ]
  },
  {
   "cell_type": "code",
   "execution_count": 3,
   "id": "268e335c-e368-405c-9e46-c5f8eac9a182",
   "metadata": {},
   "outputs": [
    {
     "name": "stdout",
     "output_type": "stream",
     "text": [
      "Running test case 0 with input '[[-1.12422548e-01,  0.0, 9.47909940e-02, 0.0, 0.0, 9.47909940e-02, 0.0],[2,2,2,3,4,5]]'...\n",
      "Correct!\n",
      "Running test case 1 with input '[[-2.51161988e-01, 0.0, 1.22546112e-01, 0.0, 0.0,  1.22546112e-01, 0.0],[1.1,0.3,0.4,0.6,0.8,0.9]]'...\n",
      "Correct!\n"
     ]
    }
   ],
   "source": [
    "# These functions are responsible for testing the solution.\n",
    "\n",
    "def run(test_case_input: str) -> str:\n",
    "\n",
    "    ins = json.loads(test_case_input)\n",
    "    output = fourier_squared_distance(*ins)\n",
    "\n",
    "    return str(output)\n",
    "\n",
    "def check(solution_output: str, expected_output: str) -> None:\n",
    "    \"\"\"\n",
    "    Compare solution with expected.\n",
    "\n",
    "    Args:\n",
    "            solution_output: The output from an evaluated solution. Will be\n",
    "            the same type as returned.\n",
    "            expected_output: The correct result for the test case.\n",
    "\n",
    "    Raises:\n",
    "            ``AssertionError`` if the solution output is incorrect in any way.\n",
    "    \"\"\"\n",
    "\n",
    "    solution_output = json.loads(solution_output)\n",
    "    expected_output = json.loads(expected_output)\n",
    "    assert np.allclose(\n",
    "        solution_output, expected_output, rtol=1e-2\n",
    "    ), \"Your calculated squared distance isn't quite right.\"\n",
    "\n",
    "\n",
    "test_cases = [['[[-1.12422548e-01,  0.0, 9.47909940e-02, 0.0, 0.0, 9.47909940e-02, 0.0],[2,2,2,3,4,5]]', '0.0036766085933034303'], ['[[-2.51161988e-01, 0.0, 1.22546112e-01, 0.0, 0.0,  1.22546112e-01, 0.0],[1.1,0.3,0.4,0.6,0.8,0.9]]', '0.6538589174369286']]\n",
    "\n",
    "for i, (input_, expected_output) in enumerate(test_cases):\n",
    "    print(f\"Running test case {i} with input '{input_}'...\")\n",
    "\n",
    "    try:\n",
    "        output = run(input_)\n",
    "\n",
    "    except Exception as exc:\n",
    "        print(f\"Runtime Error. {exc}\")\n",
    "\n",
    "    else:\n",
    "        if message := check(output, expected_output):\n",
    "            print(f\"Wrong Answer. Have: '{output}'. Want: '{expected_output}'.\")\n",
    "\n",
    "        else:\n",
    "            print(\"Correct!\")"
   ]
  }
 ],
 "metadata": {
  "kernelspec": {
   "display_name": "PennyLane",
   "language": "python",
   "name": "pennylane"
  },
  "language_info": {
   "codemirror_mode": {
    "name": "ipython",
    "version": 3
   },
   "file_extension": ".py",
   "mimetype": "text/x-python",
   "name": "python",
   "nbconvert_exporter": "python",
   "pygments_lexer": "ipython3",
   "version": "3.9.13"
  }
 },
 "nbformat": 4,
 "nbformat_minor": 5
}
