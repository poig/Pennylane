{
 "cells": [
  {
   "cell_type": "code",
   "execution_count": 1,
   "id": "b9b8fc2c-17fb-45d9-b571-035fc721b61d",
   "metadata": {
    "tags": []
   },
   "outputs": [],
   "source": [
    "import functools\n",
    "import json\n",
    "import math\n",
    "import pandas as pd\n",
    "import pennylane as qml\n",
    "import pennylane.numpy as np\n",
    "import scipy\n",
    "\n",
    "dev = qml.device(\"default.qubit\", wires=3)\n",
    "\n",
    "@qml.qnode(dev)\n",
    "def circuit(params):\n",
    "    \"\"\"The quantum circuit that you will differentiate!\n",
    "\n",
    "    Args:\n",
    "        params (list(float)): The parameters for gates in the circuit\n",
    "    \n",
    "    Returns:\n",
    "        (numpy.array): An expectation value. \n",
    "    \"\"\"\n",
    "    qml.broadcast(qml.Hadamard, wires=range(3), pattern=\"single\")\n",
    "    qml.CRX(params[0], [1, 2])\n",
    "    qml.CRY(params[1], [0, 1])\n",
    "    qml.CRZ(params[2], [2, 0])\n",
    "    return qml.expval(qml.PauliZ(0) + qml.PauliZ(1) + qml.PauliX(2))\n",
    "\n",
    "\n",
    "def shifts_and_coeffs():\n",
    "    \"\"\"A function that defines the shift amounts and coefficients needed for\n",
    "    defining a parameter-shift rule for CRX, CRY, and CRZ gates.\n",
    "\n",
    "    Returns:\n",
    "        shifts (list(float)): A list of shift amounts. Order them however you want!\n",
    "        coeffs (list(float)): A list of coefficients. Order them however you want!\n",
    "    \"\"\"\n",
    "    # Put your code here and make sure to return what is needed #\n",
    "    # the answer is in documentaion,https://docs.pennylane.ai/en/stable/code/api/pennylane.CRZ.html \n",
    "    s1 = (np.pi/2)\n",
    "    s2 = (3*np.pi/2)\n",
    "\n",
    "    c1 = (np.sqrt(2)+1) / (4*np.sqrt(2)) \n",
    "    c2 = (np.sqrt(2)-1) / (4*np.sqrt(2))\n",
    "    \n",
    "    return [s1,s2], [c1,c2]\n",
    "\n",
    "def my_parameter_shift_grad(params):\n",
    "    \"\"\"Your homemade parameter-shift rule function!\n",
    "    NOTE: you cannot use qml.grad within this function\n",
    "\n",
    "    Args:\n",
    "        params (list(float)): The parameters for gates in the circuit\n",
    "    \n",
    "    Returns:\n",
    "        gradient (numpy.array): The gradient of the circuit with respect to the given parameters.\n",
    "    \"\"\"\n",
    "    gradient = np.zeros_like(params)\n",
    "\n",
    "    shifts, coeffs = shifts_and_coeffs()\n",
    "\n",
    "    for i in range(len(params)):\n",
    "        # Put your code here\n",
    "        plus_s1 = params.copy()\n",
    "        minus_s1 = params.copy()\n",
    "        plus_s2 = params.copy()\n",
    "        minus_s2 = params.copy() \n",
    "        \n",
    "        plus_s1[i] += shifts[0] \n",
    "        minus_s1[i] -= shifts[0]\n",
    "        term1 = (circuit(plus_s1) - circuit(minus_s1)) * coeffs[0] \n",
    "\n",
    "        plus_s2[i] += shifts[1]\n",
    "        minus_s2[i] -= shifts[1]\n",
    "        term2 = (circuit(plus_s2) - circuit(minus_s2)) * coeffs[1] \n",
    "        #print(term1,term2)\n",
    "        gradient[i] = (term1 - term2)\n",
    "        \n",
    "    return np.round_(gradient, decimals=5).tolist()"
   ]
  },
  {
   "cell_type": "code",
   "execution_count": 2,
   "id": "b7638632-c7fb-480d-a2aa-d8fbb15cfdd2",
   "metadata": {},
   "outputs": [
    {
     "data": {
      "text/plain": [
       "[0.08144, -0.33706, -0.37944]"
      ]
     },
     "execution_count": 2,
     "metadata": {},
     "output_type": "execute_result"
    }
   ],
   "source": [
    "my_parameter_shift_grad([1.23, 0.6, 4.56]) #0.08144, -0.33706, -0.37944"
   ]
  },
  {
   "cell_type": "code",
   "execution_count": 3,
   "id": "359ef4e2-c3b5-4e16-b2cd-4141c54749d9",
   "metadata": {},
   "outputs": [
    {
     "name": "stdout",
     "output_type": "stream",
     "text": [
      "Running test case 0 with input '[1.23, 0.6, 4.56]'...\n",
      "Correct!\n"
     ]
    }
   ],
   "source": [
    "# These functions are responsible for testing the solution.\n",
    "\n",
    "def run(test_case_input: str) -> str:\n",
    "    params = json.loads(test_case_input)\n",
    "    gradient = my_parameter_shift_grad(params)\n",
    "    return str(gradient)\n",
    "\n",
    "def check(solution_output: str, expected_output: str) -> None:\n",
    "    solution_output = json.loads(solution_output)\n",
    "    expected_output = json.loads(expected_output)\n",
    "    assert np.allclose(\n",
    "        solution_output, expected_output, rtol=1e-4\n",
    "    ), \"Your gradient isn't quite right!\"\n",
    "\n",
    "\n",
    "test_cases = [['[1.23, 0.6, 4.56]', '[0.08144, -0.33706, -0.37944]']]\n",
    "\n",
    "for i, (input_, expected_output) in enumerate(test_cases):\n",
    "    print(f\"Running test case {i} with input '{input_}'...\")\n",
    "\n",
    "    try:\n",
    "        output = run(input_)\n",
    "\n",
    "    except Exception as exc:\n",
    "        print(f\"Runtime Error. {exc}\")\n",
    "\n",
    "    else:\n",
    "        if message := check(output, expected_output):\n",
    "            print(f\"Wrong Answer. Have: '{output}'. Want: '{expected_output}'.\")\n",
    "\n",
    "        else:\n",
    "            print(\"Correct!\")"
   ]
  }
 ],
 "metadata": {
  "kernelspec": {
   "display_name": "PennyLane",
   "language": "python",
   "name": "pennylane"
  },
  "language_info": {
   "codemirror_mode": {
    "name": "ipython",
    "version": 3
   },
   "file_extension": ".py",
   "mimetype": "text/x-python",
   "name": "python",
   "nbconvert_exporter": "python",
   "pygments_lexer": "ipython3",
   "version": "3.9.13"
  }
 },
 "nbformat": 4,
 "nbformat_minor": 5
}
